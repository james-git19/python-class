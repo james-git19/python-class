{
 "cells": [
  {
   "cell_type": "markdown",
   "metadata": {},
   "source": [
    "### Linear 을 활용한 주가 예측"
   ]
  },
  {
   "cell_type": "code",
   "execution_count": 59,
   "metadata": {},
   "outputs": [],
   "source": [
    "import pandas as pd\n",
    "import numpy as np\n",
    "import matplotlib.pyplot as plt"
   ]
  },
  {
   "cell_type": "code",
   "execution_count": 60,
   "metadata": {},
   "outputs": [],
   "source": [
    "stock_code = '000660'\n",
    "url = 'https://finance.naver.com/item/sise_day.nhn?code=' + stock_code\n",
    "df = pd.read_html(url, encoding='cp949', index_col=0)\n",
    "stock = df[0].dropna()"
   ]
  },
  {
   "cell_type": "code",
   "execution_count": 61,
   "metadata": {},
   "outputs": [
    {
     "data": {
      "text/plain": [
       "(290, 6)"
      ]
     },
     "execution_count": 61,
     "metadata": {},
     "output_type": "execute_result"
    }
   ],
   "source": [
    "max_page = 30\n",
    "for i in range(2, max_page):\n",
    "    url = 'https://finance.naver.com/item/sise_day.nhn?code='+ stock_code + '&page=' + str(i)\n",
    "    df = pd.read_html(url, encoding='cp949', index_col=0)\n",
    "    stock = stock.append(df[0].dropna())\n",
    "stock.shape"
   ]
  },
  {
   "cell_type": "code",
   "execution_count": 62,
   "metadata": {},
   "outputs": [
    {
     "data": {
      "text/html": [
       "<div>\n",
       "<style scoped>\n",
       "    .dataframe tbody tr th:only-of-type {\n",
       "        vertical-align: middle;\n",
       "    }\n",
       "\n",
       "    .dataframe tbody tr th {\n",
       "        vertical-align: top;\n",
       "    }\n",
       "\n",
       "    .dataframe thead th {\n",
       "        text-align: right;\n",
       "    }\n",
       "</style>\n",
       "<table border=\"1\" class=\"dataframe\">\n",
       "  <thead>\n",
       "    <tr style=\"text-align: right;\">\n",
       "      <th></th>\n",
       "      <th>종가</th>\n",
       "      <th>전일비</th>\n",
       "      <th>시가</th>\n",
       "      <th>고가</th>\n",
       "      <th>저가</th>\n",
       "      <th>거래량</th>\n",
       "    </tr>\n",
       "    <tr>\n",
       "      <th>날짜</th>\n",
       "      <th></th>\n",
       "      <th></th>\n",
       "      <th></th>\n",
       "      <th></th>\n",
       "      <th></th>\n",
       "      <th></th>\n",
       "    </tr>\n",
       "  </thead>\n",
       "  <tbody>\n",
       "    <tr>\n",
       "      <th>2019.07.03</th>\n",
       "      <td>71300.0</td>\n",
       "      <td>100.0</td>\n",
       "      <td>71100.0</td>\n",
       "      <td>71700.0</td>\n",
       "      <td>70500.0</td>\n",
       "      <td>342265.0</td>\n",
       "    </tr>\n",
       "    <tr>\n",
       "      <th>2019.07.02</th>\n",
       "      <td>71400.0</td>\n",
       "      <td>1400.0</td>\n",
       "      <td>69700.0</td>\n",
       "      <td>71700.0</td>\n",
       "      <td>69100.0</td>\n",
       "      <td>2495399.0</td>\n",
       "    </tr>\n",
       "    <tr>\n",
       "      <th>2019.07.01</th>\n",
       "      <td>70000.0</td>\n",
       "      <td>500.0</td>\n",
       "      <td>71000.0</td>\n",
       "      <td>71000.0</td>\n",
       "      <td>69700.0</td>\n",
       "      <td>3538183.0</td>\n",
       "    </tr>\n",
       "    <tr>\n",
       "      <th>2019.06.28</th>\n",
       "      <td>69500.0</td>\n",
       "      <td>700.0</td>\n",
       "      <td>70900.0</td>\n",
       "      <td>70900.0</td>\n",
       "      <td>68400.0</td>\n",
       "      <td>3117569.0</td>\n",
       "    </tr>\n",
       "    <tr>\n",
       "      <th>2019.06.27</th>\n",
       "      <td>70200.0</td>\n",
       "      <td>1300.0</td>\n",
       "      <td>70100.0</td>\n",
       "      <td>71600.0</td>\n",
       "      <td>69700.0</td>\n",
       "      <td>5361201.0</td>\n",
       "    </tr>\n",
       "  </tbody>\n",
       "</table>\n",
       "</div>"
      ],
      "text/plain": [
       "                 종가     전일비       시가       고가       저가        거래량\n",
       "날짜                                                               \n",
       "2019.07.03  71300.0   100.0  71100.0  71700.0  70500.0   342265.0\n",
       "2019.07.02  71400.0  1400.0  69700.0  71700.0  69100.0  2495399.0\n",
       "2019.07.01  70000.0   500.0  71000.0  71000.0  69700.0  3538183.0\n",
       "2019.06.28  69500.0   700.0  70900.0  70900.0  68400.0  3117569.0\n",
       "2019.06.27  70200.0  1300.0  70100.0  71600.0  69700.0  5361201.0"
      ]
     },
     "execution_count": 62,
     "metadata": {},
     "output_type": "execute_result"
    }
   ],
   "source": [
    "stock.head()"
   ]
  },
  {
   "cell_type": "code",
   "execution_count": 63,
   "metadata": {},
   "outputs": [
    {
     "data": {
      "text/plain": [
       "날짜\n",
       "2018.04.25    82400.0\n",
       "2018.04.26    86500.0\n",
       "2018.04.27    87100.0\n",
       "2018.04.30    84500.0\n",
       "2018.05.02    83100.0\n",
       "Name: 종가, dtype: float64"
      ]
     },
     "execution_count": 63,
     "metadata": {},
     "output_type": "execute_result"
    }
   ],
   "source": [
    "stock1 = stock.iloc[::-1, 0]\n",
    "stock1.head()"
   ]
  },
  {
   "cell_type": "code",
   "execution_count": 64,
   "metadata": {},
   "outputs": [],
   "source": [
    "# 10개의 데이터를 이용하여 5일치 데이터를 예측해 보자\n",
    "window_day = 10\n",
    "predict_day = 5"
   ]
  },
  {
   "cell_type": "code",
   "execution_count": 65,
   "metadata": {},
   "outputs": [
    {
     "name": "stdout",
     "output_type": "stream",
     "text": [
      "총 데이터 개수=290, 샘플 크기=15, 총 샘플 수=276\n"
     ]
    }
   ],
   "source": [
    "print('총 데이터 개수={}, 샘플 크기={}, 총 샘플 수={}'\n",
    "      .format(len(stock1), (window_day + predict_day), (len(stock1) - (window_day + predict_day) + 1)))"
   ]
  },
  {
   "cell_type": "code",
   "execution_count": 66,
   "metadata": {},
   "outputs": [
    {
     "data": {
      "text/plain": [
       "276"
      ]
     },
     "execution_count": 66,
     "metadata": {},
     "output_type": "execute_result"
    }
   ],
   "source": [
    "m = len(stock1) - (window_day + predict_day) + 1\n",
    "m"
   ]
  },
  {
   "cell_type": "code",
   "execution_count": 67,
   "metadata": {},
   "outputs": [],
   "source": [
    "x_list = []\n",
    "y_list = []\n",
    "for i in range(m):\n",
    "    x = stock1.iloc[i:(i + window_day)]\n",
    "    y = stock1.iloc[(i + window_day):(i + window_day + predict_day)]\n",
    "    x_list.append(x)\n",
    "    y_list.append(y)"
   ]
  },
  {
   "cell_type": "code",
   "execution_count": 68,
   "metadata": {},
   "outputs": [
    {
     "data": {
      "text/plain": [
       "((276, 10), (276, 5))"
      ]
     },
     "execution_count": 68,
     "metadata": {},
     "output_type": "execute_result"
    }
   ],
   "source": [
    "X = np.array(x_list)\n",
    "y = np.array(y_list)\n",
    "X.shape, y.shape # (m-instance, day, columns)"
   ]
  },
  {
   "cell_type": "code",
   "execution_count": 69,
   "metadata": {},
   "outputs": [
    {
     "data": {
      "text/plain": [
       "array([[82400., 86500., 87100., 84500., 83100., 82900., 83000., 83500.,\n",
       "        83400., 85800.],\n",
       "       [86500., 87100., 84500., 83100., 82900., 83000., 83500., 83400.,\n",
       "        85800., 86100.],\n",
       "       [87100., 84500., 83100., 82900., 83000., 83500., 83400., 85800.,\n",
       "        86100., 85400.],\n",
       "       [84500., 83100., 82900., 83000., 83500., 83400., 85800., 86100.,\n",
       "        85400., 84600.],\n",
       "       [83100., 82900., 83000., 83500., 83400., 85800., 86100., 85400.,\n",
       "        84600., 87000.]])"
      ]
     },
     "execution_count": 69,
     "metadata": {},
     "output_type": "execute_result"
    }
   ],
   "source": [
    "X[:5]"
   ]
  },
  {
   "cell_type": "code",
   "execution_count": 70,
   "metadata": {},
   "outputs": [
    {
     "data": {
      "text/plain": [
       "((246, 10), (30, 10), (246, 5), (30, 5))"
      ]
     },
     "execution_count": 70,
     "metadata": {},
     "output_type": "execute_result"
    }
   ],
   "source": [
    "# train / test 분리\n",
    "offset = 30\n",
    "X_train = X[offset:]\n",
    "X_test = X[:offset]\n",
    "y_train = y[offset:]\n",
    "y_test = y[:offset]\n",
    "X_train.shape, X_test.shape, y_train.shape, y_test.shape"
   ]
  },
  {
   "cell_type": "code",
   "execution_count": 71,
   "metadata": {},
   "outputs": [
    {
     "data": {
      "text/plain": [
       "Ridge(alpha=1.0, copy_X=True, fit_intercept=True, max_iter=None,\n",
       "   normalize=False, random_state=None, solver='auto', tol=0.001)"
      ]
     },
     "execution_count": 71,
     "metadata": {},
     "output_type": "execute_result"
    }
   ],
   "source": [
    "from sklearn.linear_model import Ridge\n",
    "lr = Ridge()\n",
    "lr.fit(X_train, y_train)"
   ]
  },
  {
   "cell_type": "code",
   "execution_count": 72,
   "metadata": {},
   "outputs": [
    {
     "data": {
      "text/plain": [
       "(0.8541571103818393, 0.0012713849060058974)"
      ]
     },
     "execution_count": 72,
     "metadata": {},
     "output_type": "execute_result"
    }
   ],
   "source": [
    "lr.score(X_train, y_train), lr.score(X_test, y_test)"
   ]
  },
  {
   "cell_type": "code",
   "execution_count": 83,
   "metadata": {},
   "outputs": [
    {
     "data": {
      "text/plain": [
       "(5,)"
      ]
     },
     "execution_count": 83,
     "metadata": {},
     "output_type": "execute_result"
    }
   ],
   "source": [
    "# 미래의 주가를 예측하여 시각화 해보자.\n",
    "최근일 = stock1.iloc[-window_day:].values.reshape([1, -1])\n",
    "미래일 = lr.predict(최근일)\n",
    "미래일 = np.reshape(미래일, [predict_day], 1)\n",
    "미래일.shape"
   ]
  },
  {
   "cell_type": "code",
   "execution_count": 84,
   "metadata": {},
   "outputs": [
    {
     "data": {
      "image/png": "[encoded data removed]",
      "text/plain": [
       "<Figure size 1080x576 with 1 Axes>"
      ]
     },
     "metadata": {
      "needs_background": "light"
     },
     "output_type": "display_data"
    }
   ],
   "source": [
    "plt.rc('font', family='Malgun Gothic')\n",
    "plt.figure(figsize=(15, 8))\n",
    "종가 = stock1.values\n",
    "x_num = np.arange(len(종가))\n",
    "x1_num = np.arange(len(종가), len(종가) + len(미래일))\n",
    "plt.plot(x_num, 종가, label='종가')\n",
    "plt.plot(x1_num, 미래일, color='red', label='종가 예측')\n",
    "plt.legend()\n",
    "plt.show()"
   ]
  },
  {
   "cell_type": "code",
   "execution_count": null,
   "metadata": {},
   "outputs": [],
   "source": []
  }
 ],
 "metadata": {
  "kernelspec": {
   "display_name": "Python 3",
   "language": "python",
   "name": "python3"
  },
  "language_info": {
   "codemirror_mode": {
    "name": "ipython",
    "version": 3
   },
   "file_extension": ".py",
   "mimetype": "text/x-python",
   "name": "python",
   "nbconvert_exporter": "python",
   "pygments_lexer": "ipython3",
   "version": "3.7.3"
  }
 },
 "nbformat": 4,
 "nbformat_minor": 2
}

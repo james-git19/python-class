{
 "cells": [
  {
   "cell_type": "markdown",
   "metadata": {},
   "source": [
    "### 머신러닝의 원리 : 선형 모델\n",
    "- X로부터 Y를 알고 싶다.\n",
    "X : [1, 2, 4], Y : [2, 4, 8], x = [5], Y = [10] ? <BR>\n",
    "선형 모델로 X와 Y의 관계를 설명해 보자.<BR>\n",
    "Y = ~ Y_hat = w * x + b (~ : 이 표시는 비슷하다는 의미) <BR>\n",
    ".fit : w 와 b 를 오차가 작아지도록 키우거나 줄여서 조절한다. <BR>\n",
    "    값을 조절해도 오차가 줄어들지 않는 단계에서 확정 : 수렴"
   ]
  },
  {
   "cell_type": "code",
   "execution_count": 4,
   "metadata": {},
   "outputs": [],
   "source": [
    "import mglearn"
   ]
  },
  {
   "cell_type": "code",
   "execution_count": 5,
   "metadata": {},
   "outputs": [
    {
     "name": "stdout",
     "output_type": "stream",
     "text": [
      "w[0]: 0.393906  b: -0.031804\n"
     ]
    },
    {
     "data": {
      "image/png": "[encoded data removed]",
      "text/plain": [
       "<Figure size 576x576 with 1 Axes>"
      ]
     },
     "metadata": {
      "needs_background": "light"
     },
     "output_type": "display_data"
    }
   ],
   "source": [
    "mglearn.plots.plot_linear_regression_wave() # mglearn 에 포함되어 있는 wave 라는 데이터셋에 대한 선형그래프"
   ]
  },
  {
   "cell_type": "markdown",
   "metadata": {},
   "source": [
    "- 1차원(vector) 데이터 : 점(scalar)으로 분리\n",
    "- 2차원(matrix) 데이터 : 선으로 분리\n",
    "- 3차원(tensor, cube) 데이터 : 면(plane)으로 분리\n",
    "- 4차원(tensor) 데이터 : 공간으로 분리\n",
    "* 면 이상의 차원은 초평면(hyperplane)"
   ]
  },
  {
   "cell_type": "markdown",
   "metadata": {},
   "source": [
    "### p73 선형 회귀 모델\n",
    "- 데이터를 선형 함수로 모델링\n",
    "- 최소제곱법 : 평균제곱오차를 최소화하는 파라미터를 찾는다.\n",
    "  * 파라미터를 줄이거나 늘려 본다(기본 원리)(실제는 안 씀)\n",
    "  * 오차를 파라미터로 미분한 값이 활용 파라미터 값을 조절: 양수(파라미터 증가 시킴), 음수(파라미터를 감소 시킴)\n",
    "  * 정규방정식으로 찾기(데이터가 많아지면 메모리 부족 발생)\n",
    "- 평균제곱오차 : 오차(예측과 정답의 차이)를 제곱 > 모든 샘플들의 오창를 평균 > 0 에 가까워지도록."
   ]
  },
  {
   "cell_type": "code",
   "execution_count": 6,
   "metadata": {},
   "outputs": [],
   "source": [
    "import numpy as np\n",
    "import pandas as pd\n",
    "import matplotlib.pyplot as plt"
   ]
  },
  {
   "cell_type": "code",
   "execution_count": 14,
   "metadata": {},
   "outputs": [],
   "source": [
    "# 사람의 키와 몸무게를 활용하여 몸무게로 부터 키를 예측해 보자.\n",
    "몸무게 = [30, 60, 70, 90]\n",
    "키 = [120, 160, 170, 190]\n",
    "테스트 = [65, 80]"
   ]
  },
  {
   "cell_type": "code",
   "execution_count": 15,
   "metadata": {},
   "outputs": [],
   "source": [
    "몸무게 = np.array(몸무게).reshape((-1, 1))\n",
    "키 = np.array(키).reshape((-1, 1))\n",
    "테스트 = np.array(테스트).reshape((-1, 1))"
   ]
  },
  {
   "cell_type": "code",
   "execution_count": 16,
   "metadata": {},
   "outputs": [],
   "source": [
    "from sklearn.linear_model import LinearRegression"
   ]
  },
  {
   "cell_type": "code",
   "execution_count": 20,
   "metadata": {},
   "outputs": [
    {
     "data": {
      "text/plain": [
       "LinearRegression(copy_X=True, fit_intercept=True, n_jobs=None,\n",
       "         normalize=False)"
      ]
     },
     "execution_count": 20,
     "metadata": {},
     "output_type": "execute_result"
    }
   ],
   "source": [
    "lr = LinearRegression()\n",
    "lr.fit(X=몸무게, y=키) # Y = w * x + b"
   ]
  },
  {
   "cell_type": "code",
   "execution_count": 21,
   "metadata": {},
   "outputs": [
    {
     "data": {
      "text/plain": [
       "(array([[65],\n",
       "        [80]]), array([[162.93333333],\n",
       "        [180.53333333]]))"
      ]
     },
     "execution_count": 21,
     "metadata": {},
     "output_type": "execute_result"
    }
   ],
   "source": [
    "테스트, lr.predict(테스트)"
   ]
  },
  {
   "cell_type": "code",
   "execution_count": 22,
   "metadata": {},
   "outputs": [
    {
     "data": {
      "text/plain": [
       "0.9928205128205129"
      ]
     },
     "execution_count": 22,
     "metadata": {},
     "output_type": "execute_result"
    }
   ],
   "source": [
    "lr.score(몸무게, 키)"
   ]
  },
  {
   "cell_type": "code",
   "execution_count": 23,
   "metadata": {},
   "outputs": [
    {
     "data": {
      "text/plain": [
       "(array([[1.17333333]]), array([86.66666667]))"
      ]
     },
     "execution_count": 23,
     "metadata": {},
     "output_type": "execute_result"
    }
   ],
   "source": [
    "# 계수(w)와 절편(b)\n",
    "lr.coef_, lr.intercept_"
   ]
  },
  {
   "cell_type": "code",
   "execution_count": 24,
   "metadata": {},
   "outputs": [
    {
     "data": {
      "text/plain": [
       "array([[121.86666667],\n",
       "       [157.06666667],\n",
       "       [168.8       ],\n",
       "       [192.26666667]])"
      ]
     },
     "execution_count": 24,
     "metadata": {},
     "output_type": "execute_result"
    }
   ],
   "source": [
    "lr.coef_ * 몸무게 + lr.intercept_"
   ]
  },
  {
   "cell_type": "code",
   "execution_count": 25,
   "metadata": {},
   "outputs": [
    {
     "data": {
      "text/plain": [
       "array([[120],\n",
       "       [160],\n",
       "       [170],\n",
       "       [190]])"
      ]
     },
     "execution_count": 25,
     "metadata": {},
     "output_type": "execute_result"
    }
   ],
   "source": [
    "키"
   ]
  },
  {
   "cell_type": "markdown",
   "metadata": {},
   "source": [
    "### 선형 회귀 : 코스피 200 "
   ]
  },
  {
   "cell_type": "code",
   "execution_count": 78,
   "metadata": {},
   "outputs": [
    {
     "data": {
      "text/plain": [
       "3"
      ]
     },
     "execution_count": 78,
     "metadata": {},
     "output_type": "execute_result"
    }
   ],
   "source": [
    "df = pd.read_html('코스피200 _ 다음 금융.html', encoding='cp949', index_col=0)\n",
    "len(df)"
   ]
  },
  {
   "cell_type": "code",
   "execution_count": 138,
   "metadata": {},
   "outputs": [
    {
     "data": {
      "text/html": [
       "<div>\n",
       "<style scoped>\n",
       "    .dataframe tbody tr th:only-of-type {\n",
       "        vertical-align: middle;\n",
       "    }\n",
       "\n",
       "    .dataframe tbody tr th {\n",
       "        vertical-align: top;\n",
       "    }\n",
       "\n",
       "    .dataframe thead th {\n",
       "        text-align: right;\n",
       "    }\n",
       "</style>\n",
       "<table border=\"1\" class=\"dataframe\">\n",
       "  <thead>\n",
       "    <tr style=\"text-align: right;\">\n",
       "      <th></th>\n",
       "      <th>종가</th>\n",
       "      <th>전일비</th>\n",
       "      <th>등락률</th>\n",
       "      <th>거래량</th>\n",
       "      <th>거래대금</th>\n",
       "      <th>개인(억)</th>\n",
       "      <th>외국인(억)</th>\n",
       "      <th>기관(억)</th>\n",
       "    </tr>\n",
       "    <tr>\n",
       "      <th>일자</th>\n",
       "      <th></th>\n",
       "      <th></th>\n",
       "      <th></th>\n",
       "      <th></th>\n",
       "      <th></th>\n",
       "      <th></th>\n",
       "      <th></th>\n",
       "      <th></th>\n",
       "    </tr>\n",
       "  </thead>\n",
       "  <tbody>\n",
       "    <tr>\n",
       "      <th>19.07.02</th>\n",
       "      <td>276.84</td>\n",
       "      <td>▼0.43</td>\n",
       "      <td>-0.16%</td>\n",
       "      <td>22559</td>\n",
       "      <td>825303</td>\n",
       "      <td>318</td>\n",
       "      <td>84</td>\n",
       "      <td>-382</td>\n",
       "    </tr>\n",
       "    <tr>\n",
       "      <th>19.07.01</th>\n",
       "      <td>277.27</td>\n",
       "      <td>▼0.23</td>\n",
       "      <td>-0.08%</td>\n",
       "      <td>74357</td>\n",
       "      <td>3446049</td>\n",
       "      <td>-214</td>\n",
       "      <td>1286</td>\n",
       "      <td>365</td>\n",
       "    </tr>\n",
       "    <tr>\n",
       "      <th>19.06.28</th>\n",
       "      <td>277.50</td>\n",
       "      <td>▼0.25</td>\n",
       "      <td>-0.09%</td>\n",
       "      <td>67598</td>\n",
       "      <td>2879563</td>\n",
       "      <td>-1802</td>\n",
       "      <td>3011</td>\n",
       "      <td>-1189</td>\n",
       "    </tr>\n",
       "    <tr>\n",
       "      <th>19.06.27</th>\n",
       "      <td>277.75</td>\n",
       "      <td>▲2.22</td>\n",
       "      <td>+0.81%</td>\n",
       "      <td>66303</td>\n",
       "      <td>3357666</td>\n",
       "      <td>-4165</td>\n",
       "      <td>1837</td>\n",
       "      <td>2415</td>\n",
       "    </tr>\n",
       "    <tr>\n",
       "      <th>19.06.26</th>\n",
       "      <td>275.53</td>\n",
       "      <td>▲0.25</td>\n",
       "      <td>+0.09%</td>\n",
       "      <td>58818</td>\n",
       "      <td>2636531</td>\n",
       "      <td>-712</td>\n",
       "      <td>157</td>\n",
       "      <td>557</td>\n",
       "    </tr>\n",
       "    <tr>\n",
       "      <th>19.06.25</th>\n",
       "      <td>275.28</td>\n",
       "      <td>▼0.30</td>\n",
       "      <td>-0.11%</td>\n",
       "      <td>60506</td>\n",
       "      <td>2635188</td>\n",
       "      <td>-364</td>\n",
       "      <td>277</td>\n",
       "      <td>-12</td>\n",
       "    </tr>\n",
       "    <tr>\n",
       "      <th>19.06.24</th>\n",
       "      <td>275.58</td>\n",
       "      <td>▲0.10</td>\n",
       "      <td>+0.04%</td>\n",
       "      <td>55539</td>\n",
       "      <td>2235175</td>\n",
       "      <td>-978</td>\n",
       "      <td>-1048</td>\n",
       "      <td>1966</td>\n",
       "    </tr>\n",
       "    <tr>\n",
       "      <th>19.06.21</th>\n",
       "      <td>275.48</td>\n",
       "      <td>▼0.53</td>\n",
       "      <td>-0.19%</td>\n",
       "      <td>77279</td>\n",
       "      <td>3275700</td>\n",
       "      <td>538</td>\n",
       "      <td>206</td>\n",
       "      <td>-767</td>\n",
       "    </tr>\n",
       "    <tr>\n",
       "      <th>19.06.20</th>\n",
       "      <td>276.01</td>\n",
       "      <td>▲0.70</td>\n",
       "      <td>+0.25%</td>\n",
       "      <td>55336</td>\n",
       "      <td>2417864</td>\n",
       "      <td>-1342</td>\n",
       "      <td>-434</td>\n",
       "      <td>1762</td>\n",
       "    </tr>\n",
       "    <tr>\n",
       "      <th>19.06.19</th>\n",
       "      <td>275.31</td>\n",
       "      <td>▲3.95</td>\n",
       "      <td>+1.46%</td>\n",
       "      <td>69733</td>\n",
       "      <td>3134202</td>\n",
       "      <td>-4430</td>\n",
       "      <td>2876</td>\n",
       "      <td>1606</td>\n",
       "    </tr>\n",
       "  </tbody>\n",
       "</table>\n",
       "</div>"
      ],
      "text/plain": [
       "              종가    전일비     등락률    거래량     거래대금  개인(억)  외국인(억)  기관(억)\n",
       "일자                                                                   \n",
       "19.07.02  276.84  ▼0.43  -0.16%  22559   825303    318      84   -382\n",
       "19.07.01  277.27  ▼0.23  -0.08%  74357  3446049   -214    1286    365\n",
       "19.06.28  277.50  ▼0.25  -0.09%  67598  2879563  -1802    3011  -1189\n",
       "19.06.27  277.75  ▲2.22  +0.81%  66303  3357666  -4165    1837   2415\n",
       "19.06.26  275.53  ▲0.25  +0.09%  58818  2636531   -712     157    557\n",
       "19.06.25  275.28  ▼0.30  -0.11%  60506  2635188   -364     277    -12\n",
       "19.06.24  275.58  ▲0.10  +0.04%  55539  2235175   -978   -1048   1966\n",
       "19.06.21  275.48  ▼0.53  -0.19%  77279  3275700    538     206   -767\n",
       "19.06.20  276.01  ▲0.70  +0.25%  55336  2417864  -1342    -434   1762\n",
       "19.06.19  275.31  ▲3.95  +1.46%  69733  3134202  -4430    2876   1606"
      ]
     },
     "execution_count": 138,
     "metadata": {},
     "output_type": "execute_result"
    }
   ],
   "source": [
    "df[1]"
   ]
  },
  {
   "cell_type": "code",
   "execution_count": 139,
   "metadata": {},
   "outputs": [
    {
     "name": "stdout",
     "output_type": "stream",
     "text": [
      "<class 'pandas.core.frame.DataFrame'>\n",
      "Index: 10 entries, 19.07.02 to 19.06.19\n",
      "Data columns (total 8 columns):\n",
      "종가        10 non-null float64\n",
      "전일비       10 non-null float32\n",
      "등락률       10 non-null float32\n",
      "거래량       10 non-null int64\n",
      "거래대금      10 non-null int64\n",
      "개인(억)     10 non-null int64\n",
      "외국인(억)    10 non-null int64\n",
      "기관(억)     10 non-null int64\n",
      "dtypes: float32(2), float64(1), int64(5)\n",
      "memory usage: 640.0+ bytes\n"
     ]
    }
   ],
   "source": [
    "# 전일비, 등락률의 특수문자를 삭제하고 실수로 변환한다.\n",
    "days = df[1].replace('▼', '-', regex=True).replace('▲', '', regex=True).replace('%', '', regex=True)\n",
    "days['전일비'] = days['전일비'].astype('float32')\n",
    "days['등락률'] = days['등락률'].astype('float32')\n",
    "days.info()"
   ]
  },
  {
   "cell_type": "code",
   "execution_count": 140,
   "metadata": {},
   "outputs": [],
   "source": [
    "# min, max 정규화 [0, 1]\n",
    "minimum = np.min(days, axis = 0)\n",
    "maximum = np.max(days, axis = 0)\n",
    "day_norm = (days - minimum) / (maximum - minimum)"
   ]
  },
  {
   "cell_type": "code",
   "execution_count": 141,
   "metadata": {},
   "outputs": [
    {
     "data": {
      "text/plain": [
       "((8, 8), (8,))"
      ]
     },
     "execution_count": 141,
     "metadata": {},
     "output_type": "execute_result"
    }
   ],
   "source": [
    "X = day_norm.iloc[2:]\n",
    "y = day_norm['종가'].iloc[1:-1]\n",
    "X.shape, y.shape"
   ]
  },
  {
   "cell_type": "code",
   "execution_count": 142,
   "metadata": {},
   "outputs": [
    {
     "data": {
      "text/html": [
       "<div>\n",
       "<style scoped>\n",
       "    .dataframe tbody tr th:only-of-type {\n",
       "        vertical-align: middle;\n",
       "    }\n",
       "\n",
       "    .dataframe tbody tr th {\n",
       "        vertical-align: top;\n",
       "    }\n",
       "\n",
       "    .dataframe thead th {\n",
       "        text-align: right;\n",
       "    }\n",
       "</style>\n",
       "<table border=\"1\" class=\"dataframe\">\n",
       "  <thead>\n",
       "    <tr style=\"text-align: right;\">\n",
       "      <th></th>\n",
       "      <th>종가</th>\n",
       "      <th>전일비</th>\n",
       "      <th>등락률</th>\n",
       "      <th>거래량</th>\n",
       "      <th>거래대금</th>\n",
       "      <th>개인(억)</th>\n",
       "      <th>외국인(억)</th>\n",
       "      <th>기관(억)</th>\n",
       "    </tr>\n",
       "    <tr>\n",
       "      <th>일자</th>\n",
       "      <th></th>\n",
       "      <th></th>\n",
       "      <th></th>\n",
       "      <th></th>\n",
       "      <th></th>\n",
       "      <th></th>\n",
       "      <th></th>\n",
       "      <th></th>\n",
       "    </tr>\n",
       "  </thead>\n",
       "  <tbody>\n",
       "    <tr>\n",
       "      <th>19.06.28</th>\n",
       "      <td>0.898785</td>\n",
       "      <td>0.062500</td>\n",
       "      <td>0.060606</td>\n",
       "      <td>0.823081</td>\n",
       "      <td>0.783846</td>\n",
       "      <td>0.528986</td>\n",
       "      <td>1.000000</td>\n",
       "      <td>0.000000</td>\n",
       "    </tr>\n",
       "    <tr>\n",
       "      <th>19.06.27</th>\n",
       "      <td>1.000000</td>\n",
       "      <td>0.613839</td>\n",
       "      <td>0.606061</td>\n",
       "      <td>0.799415</td>\n",
       "      <td>0.966276</td>\n",
       "      <td>0.053341</td>\n",
       "      <td>0.710766</td>\n",
       "      <td>1.000000</td>\n",
       "    </tr>\n",
       "    <tr>\n",
       "      <th>19.06.26</th>\n",
       "      <td>0.101215</td>\n",
       "      <td>0.174107</td>\n",
       "      <td>0.169697</td>\n",
       "      <td>0.662628</td>\n",
       "      <td>0.691112</td>\n",
       "      <td>0.748390</td>\n",
       "      <td>0.296871</td>\n",
       "      <td>0.484462</td>\n",
       "    </tr>\n",
       "    <tr>\n",
       "      <th>19.06.25</th>\n",
       "      <td>0.000000</td>\n",
       "      <td>0.051339</td>\n",
       "      <td>0.048485</td>\n",
       "      <td>0.693476</td>\n",
       "      <td>0.690599</td>\n",
       "      <td>0.818438</td>\n",
       "      <td>0.326435</td>\n",
       "      <td>0.326582</td>\n",
       "    </tr>\n",
       "    <tr>\n",
       "      <th>19.06.24</th>\n",
       "      <td>0.121457</td>\n",
       "      <td>0.140625</td>\n",
       "      <td>0.139394</td>\n",
       "      <td>0.602705</td>\n",
       "      <td>0.537966</td>\n",
       "      <td>0.694847</td>\n",
       "      <td>0.000000</td>\n",
       "      <td>0.875416</td>\n",
       "    </tr>\n",
       "    <tr>\n",
       "      <th>19.06.21</th>\n",
       "      <td>0.080972</td>\n",
       "      <td>0.000000</td>\n",
       "      <td>0.000000</td>\n",
       "      <td>1.000000</td>\n",
       "      <td>0.935000</td>\n",
       "      <td>1.000000</td>\n",
       "      <td>0.308943</td>\n",
       "      <td>0.117092</td>\n",
       "    </tr>\n",
       "    <tr>\n",
       "      <th>19.06.20</th>\n",
       "      <td>0.295547</td>\n",
       "      <td>0.274554</td>\n",
       "      <td>0.266667</td>\n",
       "      <td>0.598995</td>\n",
       "      <td>0.607675</td>\n",
       "      <td>0.621578</td>\n",
       "      <td>0.151269</td>\n",
       "      <td>0.818812</td>\n",
       "    </tr>\n",
       "    <tr>\n",
       "      <th>19.06.19</th>\n",
       "      <td>0.012146</td>\n",
       "      <td>1.000000</td>\n",
       "      <td>1.000000</td>\n",
       "      <td>0.862098</td>\n",
       "      <td>0.881008</td>\n",
       "      <td>0.000000</td>\n",
       "      <td>0.966741</td>\n",
       "      <td>0.775527</td>\n",
       "    </tr>\n",
       "  </tbody>\n",
       "</table>\n",
       "</div>"
      ],
      "text/plain": [
       "                종가       전일비       등락률       거래량      거래대금     개인(억)  \\\n",
       "일자                                                                     \n",
       "19.06.28  0.898785  0.062500  0.060606  0.823081  0.783846  0.528986   \n",
       "19.06.27  1.000000  0.613839  0.606061  0.799415  0.966276  0.053341   \n",
       "19.06.26  0.101215  0.174107  0.169697  0.662628  0.691112  0.748390   \n",
       "19.06.25  0.000000  0.051339  0.048485  0.693476  0.690599  0.818438   \n",
       "19.06.24  0.121457  0.140625  0.139394  0.602705  0.537966  0.694847   \n",
       "19.06.21  0.080972  0.000000  0.000000  1.000000  0.935000  1.000000   \n",
       "19.06.20  0.295547  0.274554  0.266667  0.598995  0.607675  0.621578   \n",
       "19.06.19  0.012146  1.000000  1.000000  0.862098  0.881008  0.000000   \n",
       "\n",
       "            외국인(억)     기관(억)  \n",
       "일자                            \n",
       "19.06.28  1.000000  0.000000  \n",
       "19.06.27  0.710766  1.000000  \n",
       "19.06.26  0.296871  0.484462  \n",
       "19.06.25  0.326435  0.326582  \n",
       "19.06.24  0.000000  0.875416  \n",
       "19.06.21  0.308943  0.117092  \n",
       "19.06.20  0.151269  0.818812  \n",
       "19.06.19  0.966741  0.775527  "
      ]
     },
     "execution_count": 142,
     "metadata": {},
     "output_type": "execute_result"
    }
   ],
   "source": [
    "X"
   ]
  },
  {
   "cell_type": "code",
   "execution_count": 143,
   "metadata": {},
   "outputs": [
    {
     "data": {
      "text/plain": [
       "일자\n",
       "19.07.01    0.805668\n",
       "19.06.28    0.898785\n",
       "19.06.27    1.000000\n",
       "19.06.26    0.101215\n",
       "19.06.25    0.000000\n",
       "19.06.24    0.121457\n",
       "19.06.21    0.080972\n",
       "19.06.20    0.295547\n",
       "Name: 종가, dtype: float64"
      ]
     },
     "execution_count": 143,
     "metadata": {},
     "output_type": "execute_result"
    }
   ],
   "source": [
    "y"
   ]
  },
  {
   "cell_type": "code",
   "execution_count": 144,
   "metadata": {},
   "outputs": [
    {
     "data": {
      "text/plain": [
       "(                종가       전일비       등락률       거래량      거래대금     개인(억)  \\\n",
       " 일자                                                                     \n",
       " 19.06.26  0.101215  0.174107  0.169697  0.662628  0.691112  0.748390   \n",
       " 19.06.25  0.000000  0.051339  0.048485  0.693476  0.690599  0.818438   \n",
       " 19.06.24  0.121457  0.140625  0.139394  0.602705  0.537966  0.694847   \n",
       " 19.06.21  0.080972  0.000000  0.000000  1.000000  0.935000  1.000000   \n",
       " 19.06.20  0.295547  0.274554  0.266667  0.598995  0.607675  0.621578   \n",
       " 19.06.19  0.012146  1.000000  1.000000  0.862098  0.881008  0.000000   \n",
       " \n",
       "             외국인(억)     기관(억)  \n",
       " 일자                            \n",
       " 19.06.26  0.296871  0.484462  \n",
       " 19.06.25  0.326435  0.326582  \n",
       " 19.06.24  0.000000  0.875416  \n",
       " 19.06.21  0.308943  0.117092  \n",
       " 19.06.20  0.151269  0.818812  \n",
       " 19.06.19  0.966741  0.775527  ,\n",
       "                 종가       전일비       등락률       거래량      거래대금     개인(억)  \\\n",
       " 일자                                                                     \n",
       " 19.06.28  0.898785  0.062500  0.060606  0.823081  0.783846  0.528986   \n",
       " 19.06.27  1.000000  0.613839  0.606061  0.799415  0.966276  0.053341   \n",
       " \n",
       "             외국인(억)  기관(억)  \n",
       " 일자                         \n",
       " 19.06.28  1.000000    0.0  \n",
       " 19.06.27  0.710766    1.0  ,\n",
       " 일자\n",
       " 19.06.27    1.000000\n",
       " 19.06.26    0.101215\n",
       " 19.06.25    0.000000\n",
       " 19.06.24    0.121457\n",
       " 19.06.21    0.080972\n",
       " 19.06.20    0.295547\n",
       " Name: 종가, dtype: float64,\n",
       " 일자\n",
       " 19.07.01    0.805668\n",
       " 19.06.28    0.898785\n",
       " Name: 종가, dtype: float64)"
      ]
     },
     "execution_count": 144,
     "metadata": {},
     "output_type": "execute_result"
    }
   ],
   "source": [
    "offset = 2\n",
    "X_train = X.iloc[offset:]\n",
    "X_test = X.iloc[:offset]\n",
    "y_train = y.iloc[offset:]\n",
    "y_test = y.iloc[:offset]\n",
    "X_train, X_test, y_train, y_test"
   ]
  },
  {
   "cell_type": "code",
   "execution_count": 150,
   "metadata": {},
   "outputs": [
    {
     "data": {
      "text/plain": [
       "LinearRegression(copy_X=True, fit_intercept=True, n_jobs=None,\n",
       "         normalize=False)"
      ]
     },
     "execution_count": 150,
     "metadata": {},
     "output_type": "execute_result"
    }
   ],
   "source": [
    "lr = LinearRegression()\n",
    "lr.fit(X_train, y_train)"
   ]
  },
  {
   "cell_type": "code",
   "execution_count": 151,
   "metadata": {},
   "outputs": [
    {
     "data": {
      "text/plain": [
       "(array([-14.09758098, -10.26231861]), 일자\n",
       " 19.07.01    0.805668\n",
       " 19.06.28    0.898785\n",
       " Name: 종가, dtype: float64)"
      ]
     },
     "execution_count": 151,
     "metadata": {},
     "output_type": "execute_result"
    }
   ],
   "source": [
    "lr.predict(X_test), y_test"
   ]
  },
  {
   "cell_type": "code",
   "execution_count": 152,
   "metadata": {},
   "outputs": [
    {
     "data": {
      "text/plain": [
       "(1.0, -79962.786753168)"
      ]
     },
     "execution_count": 152,
     "metadata": {},
     "output_type": "execute_result"
    }
   ],
   "source": [
    "lr.score(X_train, y_train), lr.score(X_test, y_test)"
   ]
  },
  {
   "cell_type": "code",
   "execution_count": 153,
   "metadata": {},
   "outputs": [
    {
     "data": {
      "text/plain": [
       "(array([ -6.16695713,   9.76040648,  10.05739704, -11.88816193,\n",
       "          6.94418881,  16.41892568,  -5.67926581,  -1.78894349]),\n",
       " -8.438731580310467)"
      ]
     },
     "execution_count": 153,
     "metadata": {},
     "output_type": "execute_result"
    }
   ],
   "source": [
    "lr.coef_, lr.intercept_"
   ]
  },
  {
   "cell_type": "code",
   "execution_count": 154,
   "metadata": {},
   "outputs": [
    {
     "data": {
      "image/png": "[encoded data removed]",
      "text/plain": [
       "<Figure size 432x288 with 1 Axes>"
      ]
     },
     "metadata": {
      "needs_background": "light"
     },
     "output_type": "display_data"
    }
   ],
   "source": [
    "plt.plot(lr.predict(X_train))\n",
    "plt.plot(y_train, '--')\n",
    "plt.show()"
   ]
  },
  {
   "cell_type": "markdown",
   "metadata": {},
   "source": [
    "### p78 리지 회귀 : w 를 가능한한 작제 만드는 Linear Regression\n",
    "- w 를 규제해 y 를 예측하는데 가능한한 모든 특성을 반영하고자 한다.\n",
    "- 규제(reqularization)를 통해 Overfitting 되지 않게 한다.\n",
    "- 규제 종류 : 오차에 L1(abs)(Lasso), L2(square(w))(Lidge) 를 적용하여 w 값을 규제한다.\n",
    "- Linear Regression 보다는 Ridge 를 활용"
   ]
  },
  {
   "cell_type": "code",
   "execution_count": 124,
   "metadata": {},
   "outputs": [],
   "source": [
    "from sklearn.linear_model import Ridge # L2 규제를 함"
   ]
  },
  {
   "cell_type": "code",
   "execution_count": 155,
   "metadata": {},
   "outputs": [
    {
     "data": {
      "text/plain": [
       "Ridge(alpha=1.0, copy_X=True, fit_intercept=True, max_iter=None,\n",
       "   normalize=False, random_state=None, solver='auto', tol=0.001)"
      ]
     },
     "execution_count": 155,
     "metadata": {},
     "output_type": "execute_result"
    }
   ],
   "source": [
    "lr = Ridge()\n",
    "lr.fit(X_train, y_train)"
   ]
  },
  {
   "cell_type": "code",
   "execution_count": 156,
   "metadata": {},
   "outputs": [
    {
     "data": {
      "text/plain": [
       "(array([0.3253865, 0.2640383]), 일자\n",
       " 19.07.01    0.805668\n",
       " 19.06.28    0.898785\n",
       " Name: 종가, dtype: float64)"
      ]
     },
     "execution_count": 156,
     "metadata": {},
     "output_type": "execute_result"
    }
   ],
   "source": [
    "lr.predict(X_test), y_test"
   ]
  },
  {
   "cell_type": "code",
   "execution_count": 157,
   "metadata": {},
   "outputs": [
    {
     "data": {
      "text/plain": [
       "(0.03926933145958922, -145.138871738332)"
      ]
     },
     "execution_count": 157,
     "metadata": {},
     "output_type": "execute_result"
    }
   ],
   "source": [
    "lr.score(X_train, y_train), lr.score(X_test, y_test)"
   ]
  },
  {
   "cell_type": "code",
   "execution_count": 158,
   "metadata": {},
   "outputs": [
    {
     "data": {
      "image/png": "[encoded data removed]",
      "text/plain": [
       "<Figure size 432x288 with 1 Axes>"
      ]
     },
     "metadata": {
      "needs_background": "light"
     },
     "output_type": "display_data"
    }
   ],
   "source": [
    "plt.plot(lr.predict(X_train), label='train_X')\n",
    "plt.plot(y_train.values, label='train_y')\n",
    "plt.plot(lr.predict(X_test), '--', label='test_X')\n",
    "plt.plot(y_test.values, '--', label='test_y')\n",
    "plt.legend()\n",
    "plt.show()"
   ]
  },
  {
   "cell_type": "code",
   "execution_count": 164,
   "metadata": {},
   "outputs": [],
   "source": [
    "from sklearn.linear_model import Lasso # L1 규제를 함, 몇가지 특징만을 이용하여 y 를 예측하고 싶을 때"
   ]
  },
  {
   "cell_type": "code",
   "execution_count": 160,
   "metadata": {},
   "outputs": [
    {
     "data": {
      "text/plain": [
       "Ridge(alpha=1.0, copy_X=True, fit_intercept=True, max_iter=None,\n",
       "   normalize=False, random_state=None, solver='auto', tol=0.001)"
      ]
     },
     "execution_count": 160,
     "metadata": {},
     "output_type": "execute_result"
    }
   ],
   "source": [
    "lr = Ridge()\n",
    "lr.fit(X_train, y_train)"
   ]
  },
  {
   "cell_type": "code",
   "execution_count": 161,
   "metadata": {},
   "outputs": [
    {
     "data": {
      "text/plain": [
       "(array([0.3253865, 0.2640383]), 일자\n",
       " 19.07.01    0.805668\n",
       " 19.06.28    0.898785\n",
       " Name: 종가, dtype: float64)"
      ]
     },
     "execution_count": 161,
     "metadata": {},
     "output_type": "execute_result"
    }
   ],
   "source": [
    "lr.predict(X_test), y_test"
   ]
  },
  {
   "cell_type": "code",
   "execution_count": 162,
   "metadata": {},
   "outputs": [
    {
     "data": {
      "text/plain": [
       "(0.03926933145958922, -145.138871738332)"
      ]
     },
     "execution_count": 162,
     "metadata": {},
     "output_type": "execute_result"
    }
   ],
   "source": [
    "lr.score(X_train, y_train), lr.score(X_test, y_test)"
   ]
  },
  {
   "cell_type": "code",
   "execution_count": 163,
   "metadata": {},
   "outputs": [
    {
     "data": {
      "image/png": "[encoded data removed]",
      "text/plain": [
       "<Figure size 432x288 with 1 Axes>"
      ]
     },
     "metadata": {
      "needs_background": "light"
     },
     "output_type": "display_data"
    }
   ],
   "source": [
    "plt.plot(lr.predict(X_train), label='train_X')\n",
    "plt.plot(y_train.values, label='train_y')\n",
    "plt.plot(lr.predict(X_test), '--', label='test_X')\n",
    "plt.plot(y_test.values, '--', label='test_y')\n",
    "plt.legend()\n",
    "plt.show()"
   ]
  },
  {
   "cell_type": "code",
   "execution_count": null,
   "metadata": {},
   "outputs": [],
   "source": []
  }
 ],
 "metadata": {
  "kernelspec": {
   "display_name": "Python 3",
   "language": "python",
   "name": "python3"
  },
  "language_info": {
   "codemirror_mode": {
    "name": "ipython",
    "version": 3
   },
   "file_extension": ".py",
   "mimetype": "text/x-python",
   "name": "python",
   "nbconvert_exporter": "python",
   "pygments_lexer": "ipython3",
   "version": "3.7.3"
  }
 },
 "nbformat": 4,
 "nbformat_minor": 2
}

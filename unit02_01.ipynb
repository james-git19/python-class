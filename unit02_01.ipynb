{
 "cells": [
  {
   "cell_type": "code",
   "execution_count": 63,
   "metadata": {},
   "outputs": [
    {
     "name": "stdout",
     "output_type": "stream",
     "text": [
      "           날짜   지점  평균기온(℃)  최저기온(℃)  최고기온(℃)\n",
      "0  1907-10-01  108     13.5      7.9     20.7\n",
      "1  1907-10-02  108     16.2      7.9     22.0\n",
      "2  1907-10-03  108     16.2     13.1     21.3\n",
      "3  1907-10-04  108     16.5     11.2     22.0\n",
      "4  1907-10-05  108     17.6     10.9     25.4\n"
     ]
    }
   ],
   "source": [
    "import pandas\n",
    "\n",
    "data = pandas.read_csv('seoul.csv', encoding='cp949')\n",
    "\n",
    "print(data.head())"
   ]
  },
  {
   "cell_type": "code",
   "execution_count": 64,
   "metadata": {
    "scrolled": false
   },
   "outputs": [
    {
     "name": "stdout",
     "output_type": "stream",
     "text": [
      "2018-08-01의 최고기온이 39.6(℃)로 가장 높았다.\n"
     ]
    }
   ],
   "source": [
    "import csv\n",
    "\n",
    "f = open('seoul.csv', 'r', encoding='cp949')\n",
    "\n",
    "data = csv.reader(f, delimiter=',')\n",
    "\n",
    "# 헤더부분을 SKIP 한다.\n",
    "header = next(data)\n",
    "\n",
    "max_temp = 0\n",
    "max_temp_date = ''\n",
    "\n",
    "for row in data :\n",
    "    if (row[-1] != '') :\n",
    "        if (max_temp < float(row[-1])) :\n",
    "            max_temp = float(row[-1])\n",
    "            max_temp_date = row[0]\n",
    "\n",
    "print(max_temp_date + '의 최고기온이 ', max_temp, '(℃)로 가장 높았다.', sep = '')\n",
    "\n",
    "f.close()"
   ]
  },
  {
   "cell_type": "code",
   "execution_count": null,
   "metadata": {},
   "outputs": [],
   "source": []
  }
 ],
 "metadata": {
  "kernelspec": {
   "display_name": "Python 3",
   "language": "python",
   "name": "python3"
  },
  "language_info": {
   "codemirror_mode": {
    "name": "ipython",
    "version": 3
   },
   "file_extension": ".py",
   "mimetype": "text/x-python",
   "name": "python",
   "nbconvert_exporter": "python",
   "pygments_lexer": "ipython3",
   "version": "3.7.3"
  }
 },
 "nbformat": 4,
 "nbformat_minor": 2
}

{
 "cells": [
  {
   "cell_type": "markdown",
   "metadata": {},
   "source": [
    "### Numpy (Numeric python)\n",
    "수치 데이터를 처리하는 라이브러리, 고속/편리, 모든 머신러닝 라이브러리와 호환됩니다.\n",
    "머신러닝을 하려면 모든 데이터는 수치로 변경되어야 하비다.\n",
    "- 자연어 : 단어, 조사를 숫자로, Word2Vector\n",
    "- 흑백 이미지 : 흰색 > 255, 검은색 > 0\n",
    "- 컬러 이미지(RGB) : RED > (255,0,0)\n",
    "- 혈액형(범주) : A, B, AB, O > (1, 0, 0, 0), (0, 1, 0, 0), (0, 0, 1, 0), (0, 0, 0, 1) - 원핫 인코딩"
   ]
  },
  {
   "cell_type": "code",
   "execution_count": 1,
   "metadata": {},
   "outputs": [],
   "source": [
    "import numpy as np # 별칭(별명) 편의를 위해 붙임. 묵지적인 규칙이 있다."
   ]
  },
  {
   "cell_type": "code",
   "execution_count": 2,
   "metadata": {},
   "outputs": [
    {
     "data": {
      "text/plain": [
       "array([0, 1, 2, 3, 4, 5, 6, 7, 8])"
      ]
     },
     "execution_count": 2,
     "metadata": {},
     "output_type": "execute_result"
    }
   ],
   "source": [
    "np.arange(9) # 일련번호로 배열을 생성"
   ]
  },
  {
   "cell_type": "code",
   "execution_count": 6,
   "metadata": {},
   "outputs": [
    {
     "data": {
      "text/plain": [
       "array([ 0,  2,  4,  6,  8, 10, 12, 14, 16])"
      ]
     },
     "execution_count": 6,
     "metadata": {},
     "output_type": "execute_result"
    }
   ],
   "source": [
    "# arange 는 연산에 활용이 가능하다. 집합, Vector 느낌\n",
    "np.arange(9) + np.arange(9)"
   ]
  },
  {
   "cell_type": "code",
   "execution_count": 4,
   "metadata": {},
   "outputs": [
    {
     "name": "stdout",
     "output_type": "stream",
     "text": [
      "연산불가. range 와 arange 의 차이점\n"
     ]
    }
   ],
   "source": [
    "try:\n",
    "    range(9) + range(9)\n",
    "except:\n",
    "    print('연산불가. range 와 arange 의 차이점')"
   ]
  },
  {
   "cell_type": "code",
   "execution_count": 7,
   "metadata": {},
   "outputs": [
    {
     "data": {
      "text/plain": [
       "[1, 2, 3, 4, 5, 6, 7, 8, 9, 0]"
      ]
     },
     "execution_count": 7,
     "metadata": {},
     "output_type": "execute_result"
    }
   ],
   "source": [
    "# list 와의 차이점\n",
    "[1, 2, 3, 4, 5] + [6, 7, 8, 9, 0]"
   ]
  },
  {
   "cell_type": "code",
   "execution_count": 14,
   "metadata": {},
   "outputs": [
    {
     "data": {
      "text/plain": [
       "(numpy.ndarray,\n",
       " 5,\n",
       " array([ 7,  9, 11, 13,  5]),\n",
       " (5,),\n",
       " dtype('int32'),\n",
       " dtype('float64'))"
      ]
     },
     "execution_count": 14,
     "metadata": {},
     "output_type": "execute_result"
    }
   ],
   "source": [
    "# list 를 numpy의 array(ndarray=Number of Dimension)로 변환\n",
    "nda = np.array([1, 2, 3, 4, 5]) + np.array([6, 7, 8, 9, 0])\n",
    "nda2 = np.array([12, 3, 4.5])\n",
    "type(nda), len(nda), nda, nda.shape, nda.dtype, nda2.dtype"
   ]
  },
  {
   "cell_type": "code",
   "execution_count": 31,
   "metadata": {},
   "outputs": [
    {
     "data": {
      "text/plain": [
       "(5.999999999999999, 0.6666666666666666)"
      ]
     },
     "execution_count": 31,
     "metadata": {},
     "output_type": "execute_result"
    }
   ],
   "source": [
    "def div(a, b, point_size=10):\n",
    "    x = a // b\n",
    "    y = a % b\n",
    "    r = x\n",
    "    i = 0\n",
    "    while ((y != 0) and (i < point_size)):\n",
    "        i += 1\n",
    "        n = y * 10\n",
    "        x = n // b\n",
    "        y = n % b\n",
    "        r = r + (x / 10)\n",
    "    return (r)\n",
    "\n",
    "div(2, 3), 2/3"
   ]
  },
  {
   "cell_type": "code",
   "execution_count": null,
   "metadata": {},
   "outputs": [],
   "source": []
  }
 ],
 "metadata": {
  "kernelspec": {
   "display_name": "Python 3",
   "language": "python",
   "name": "python3"
  },
  "language_info": {
   "codemirror_mode": {
    "name": "ipython",
    "version": 3
   },
   "file_extension": ".py",
   "mimetype": "text/x-python",
   "name": "python",
   "nbconvert_exporter": "python",
   "pygments_lexer": "ipython3",
   "version": "3.7.3"
  }
 },
 "nbformat": 4,
 "nbformat_minor": 2
}

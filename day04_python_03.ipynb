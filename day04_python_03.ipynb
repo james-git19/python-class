{
 "cells": [
  {
   "cell_type": "markdown",
   "metadata": {},
   "source": [
    "### 서울지하철 유/무임 승차 데이터"
   ]
  },
  {
   "cell_type": "code",
   "execution_count": 109,
   "metadata": {},
   "outputs": [],
   "source": [
    "import numpy as np\n",
    "import pandas as pd\n",
    "import matplotlib.pyplot as plt"
   ]
  },
  {
   "cell_type": "code",
   "execution_count": 110,
   "metadata": {},
   "outputs": [
    {
     "data": {
      "text/html": [
       "<div>\n",
       "<style scoped>\n",
       "    .dataframe tbody tr th:only-of-type {\n",
       "        vertical-align: middle;\n",
       "    }\n",
       "\n",
       "    .dataframe tbody tr th {\n",
       "        vertical-align: top;\n",
       "    }\n",
       "\n",
       "    .dataframe thead th {\n",
       "        text-align: right;\n",
       "    }\n",
       "</style>\n",
       "<table border=\"1\" class=\"dataframe\">\n",
       "  <thead>\n",
       "    <tr style=\"text-align: right;\">\n",
       "      <th></th>\n",
       "      <th>사용월</th>\n",
       "      <th>호선명</th>\n",
       "      <th>역ID</th>\n",
       "      <th>지하철역</th>\n",
       "      <th>유임승차</th>\n",
       "      <th>유임하차</th>\n",
       "      <th>무임승차</th>\n",
       "      <th>무임하차</th>\n",
       "      <th>작업일시</th>\n",
       "    </tr>\n",
       "  </thead>\n",
       "  <tbody>\n",
       "    <tr>\n",
       "      <th>0</th>\n",
       "      <td>2019-05</td>\n",
       "      <td>1호선</td>\n",
       "      <td>150</td>\n",
       "      <td>서울역</td>\n",
       "      <td>1568570</td>\n",
       "      <td>1489737</td>\n",
       "      <td>247801</td>\n",
       "      <td>242107</td>\n",
       "      <td>2019-06-03 10:56:20</td>\n",
       "    </tr>\n",
       "    <tr>\n",
       "      <th>1</th>\n",
       "      <td>2019-05</td>\n",
       "      <td>1호선</td>\n",
       "      <td>151</td>\n",
       "      <td>시청</td>\n",
       "      <td>709821</td>\n",
       "      <td>727110</td>\n",
       "      <td>112279</td>\n",
       "      <td>112016</td>\n",
       "      <td>2019-06-03 10:56:20</td>\n",
       "    </tr>\n",
       "    <tr>\n",
       "      <th>2</th>\n",
       "      <td>2019-05</td>\n",
       "      <td>1호선</td>\n",
       "      <td>152</td>\n",
       "      <td>종각</td>\n",
       "      <td>1204910</td>\n",
       "      <td>1151371</td>\n",
       "      <td>176083</td>\n",
       "      <td>164915</td>\n",
       "      <td>2019-06-03 10:56:20</td>\n",
       "    </tr>\n",
       "    <tr>\n",
       "      <th>3</th>\n",
       "      <td>2019-05</td>\n",
       "      <td>1호선</td>\n",
       "      <td>153</td>\n",
       "      <td>종로3가</td>\n",
       "      <td>699000</td>\n",
       "      <td>647664</td>\n",
       "      <td>408682</td>\n",
       "      <td>382809</td>\n",
       "      <td>2019-06-03 10:56:20</td>\n",
       "    </tr>\n",
       "    <tr>\n",
       "      <th>4</th>\n",
       "      <td>2019-05</td>\n",
       "      <td>1호선</td>\n",
       "      <td>154</td>\n",
       "      <td>종로5가</td>\n",
       "      <td>561662</td>\n",
       "      <td>578374</td>\n",
       "      <td>307515</td>\n",
       "      <td>295535</td>\n",
       "      <td>2019-06-03 10:56:20</td>\n",
       "    </tr>\n",
       "  </tbody>\n",
       "</table>\n",
       "</div>"
      ],
      "text/plain": [
       "       사용월  호선명  역ID  지하철역     유임승차     유임하차    무임승차    무임하차  \\\n",
       "0  2019-05  1호선  150   서울역  1568570  1489737  247801  242107   \n",
       "1  2019-05  1호선  151    시청   709821   727110  112279  112016   \n",
       "2  2019-05  1호선  152    종각  1204910  1151371  176083  164915   \n",
       "3  2019-05  1호선  153  종로3가   699000   647664  408682  382809   \n",
       "4  2019-05  1호선  154  종로5가   561662   578374  307515  295535   \n",
       "\n",
       "                  작업일시  \n",
       "0  2019-06-03 10:56:20  \n",
       "1  2019-06-03 10:56:20  \n",
       "2  2019-06-03 10:56:20  \n",
       "3  2019-06-03 10:56:20  \n",
       "4  2019-06-03 10:56:20  "
      ]
     },
     "execution_count": 110,
     "metadata": {},
     "output_type": "execute_result"
    }
   ],
   "source": [
    "df = pd.read_csv('201905-subwayfee.csv', encoding='cp949')\n",
    "df = df.replace(',', '', regex=True) # 콤마 제거\n",
    "df = df.dropna() # na(Null) 제거\n",
    "df.head() # default = 5"
   ]
  },
  {
   "cell_type": "code",
   "execution_count": 111,
   "metadata": {},
   "outputs": [],
   "source": [
    "arr = np.array(df)"
   ]
  },
  {
   "cell_type": "markdown",
   "metadata": {},
   "source": [
    "- 유임승차비율이 가장 높은 곳 (유임승차 / 무임승차)"
   ]
  },
  {
   "cell_type": "code",
   "execution_count": 112,
   "metadata": {},
   "outputs": [
    {
     "data": {
      "text/plain": [
       "array(['2019-05', '2호선', 222, '강남', '2894341', '2974378', '192979',\n",
       "       '172755', '2019-06-03 10:56:20'], dtype=object)"
      ]
     },
     "execution_count": 112,
     "metadata": {},
     "output_type": "execute_result"
    }
   ],
   "source": [
    "유임승차 = arr[:, 4].astype(np.int)\n",
    "arr[유임승차.argmax()]"
   ]
  },
  {
   "cell_type": "code",
   "execution_count": 113,
   "metadata": {},
   "outputs": [
    {
     "data": {
      "text/plain": [
       "(array(['분당선', '복정'], dtype=object), 24, 0)"
      ]
     },
     "execution_count": 113,
     "metadata": {},
     "output_type": "execute_result"
    }
   ],
   "source": [
    "무임승차 = arr[:, 6].astype(np.int)\n",
    "유임승차비율 = 유임승차 / (무임승차 + 1)\n",
    "idx = 유임승차비율.argmax()\n",
    "arr[idx, 1:4:2], 유임승차[idx], 무임승차[idx]"
   ]
  },
  {
   "cell_type": "markdown",
   "metadata": {},
   "source": [
    "- 유무임 승하차가 가장 많은 곳?"
   ]
  },
  {
   "cell_type": "code",
   "execution_count": 114,
   "metadata": {},
   "outputs": [
    {
     "data": {
      "text/plain": [
       "(array(['2호선', '강남'], dtype=object),\n",
       " array([2894341, 2974378,  192979,  172755]),\n",
       " 6234453)"
      ]
     },
     "execution_count": 114,
     "metadata": {},
     "output_type": "execute_result"
    }
   ],
   "source": [
    "전체승하차인원 = arr[:, 4:8].astype(np.int)\n",
    "역이용총인원 = 전체승하차인원.sum(1)\n",
    "idx = 역이용총인원.argmax()\n",
    "arr[idx, 1:4:2], 전체승하차인원[idx], 역이용총인원[idx]"
   ]
  },
  {
   "cell_type": "markdown",
   "metadata": {},
   "source": [
    "- 모등 역의 유무임 승하차 비율은 어떻게 될까 : Pie"
   ]
  },
  {
   "cell_type": "code",
   "execution_count": 119,
   "metadata": {},
   "outputs": [
    {
     "data": {
      "image/png": "[encoded data removed]",
      "text/plain": [
       "<Figure size 432x432 with 1 Axes>"
      ]
     },
     "metadata": {},
     "output_type": "display_data"
    }
   ],
   "source": [
    "승차분류별총인원 = 전체승하차인원.sum(0)\n",
    "\n",
    "plt.figure(figsize=(6, 6))\n",
    "plt.rc('font', family='Malgun Gothic', size=14)\n",
    "pie_exp = [0, 0, 0.2, 0.2]\n",
    "plt.pie(승차분류별총인원, labels=df.columns[4:8], shadow=True, autopct='%.2f', explode=pie_exp, startangle=90)\n",
    "plt.savefig('all_subway_ratio.png')\n",
    "#plt.title('')\n",
    "plt.show()"
   ]
  },
  {
   "cell_type": "markdown",
   "metadata": {},
   "source": [
    "- 모든 역마다 유무임 승차 비율을 따로 파이 차트로 나타내기"
   ]
  },
  {
   "cell_type": "code",
   "execution_count": 116,
   "metadata": {},
   "outputs": [],
   "source": [
    "for i in range(len(arr)):\n",
    "    row = arr[i]\n",
    "    승하차인원 = row[4:8].astype(np.int)\n",
    "    if 승하차인원[0] > 1000000: # 유임승차 인원 100만이상만 대상으로 한다.\n",
    "        plt.rc('font', family='Malgun Gothic', size=14)\n",
    "        #plt.title(row[3] + '역의 유무임 승차 비율')\n",
    "        plt.pie(row[4:8], labels=df.columns[4:8], shadow=True, autopct='%.2f', explode=[0, 0, 0.2, 0.2], startangle=90)\n",
    "        plt.savefig('subway_' + row[3] + '_ratio.png')\n",
    "        plt.close()"
   ]
  },
  {
   "cell_type": "code",
   "execution_count": null,
   "metadata": {},
   "outputs": [],
   "source": []
  }
 ],
 "metadata": {
  "kernelspec": {
   "display_name": "Python 3",
   "language": "python",
   "name": "python3"
  },
  "language_info": {
   "codemirror_mode": {
    "name": "ipython",
    "version": 3
   },
   "file_extension": ".py",
   "mimetype": "text/x-python",
   "name": "python",
   "nbconvert_exporter": "python",
   "pygments_lexer": "ipython3",
   "version": "3.7.3"
  }
 },
 "nbformat": 4,
 "nbformat_minor": 2
}

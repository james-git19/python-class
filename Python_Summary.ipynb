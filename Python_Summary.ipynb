{
 "cells": [
  {
   "cell_type": "markdown",
   "metadata": {},
   "source": [
    "## 7. 텍스트 데이터 다루기\n",
    "- 한국어 형태분석 : KoNLPy 활용 (p443)\n",
    ">from konlpy.tag import Okt\n",
    "- 문장을 분석을 위한 클래스 지정\n",
    ">from sklearn.feature_extraction.text import CountVectorizer, TfidfVectorizer<BR>\n",
    ">cv = CountVectorizer(tokenizer=Okt().morphs, ngram_range=(1, 2)) # ngram_range 는 여러 단어를 합치도록 지정가능 <BR>\n",
    ">or<BR>\n",
    ">cv = TfidfVectorizer(tokenizer=Okt().morphs, ngram_range=(1, 2)) # 빈도수를 활용\n",
    "- Fitting(단어사전 작성) 및 단어 분석\n",
    "> cv.fit(X) <BR>\n",
    "> X_sm = cv.transform(X)\n",
    "- \\*분류에 대한 평가 : 추천/비추천의 두가지로 분류하는 문제이기에 분류로 처리한다.\n",
    ">from sklearn.linear_model import LogisticRegression <BR>\n",
    ">from sklearn.model_selection import cross_val_score <BR>\n",
    "><BR>\n",
    ">scores = cross_val_score(LogisticRegression(), X_sm, y, cv=3) <BR>\n",
    ">scores, np.mean(scores)\n",
    "- 분류모델 fitting 및 새로운 문장에 대한 분류 예측\n",
    ">model = LogisticRegression().fit(X_sm, y) <BR>\n",
    "><BR>\n",
    ">sentences = ['예측하고 싶은 문장'] <BR>\n",
    ">model.predict(cv.transform(sentences)) <BR>\n",
    "- 기타 : `LinearRegression`는 예측에 사용하는 모델"
   ]
  }
 ],
 "metadata": {
  "kernelspec": {
   "display_name": "Python 3",
   "language": "python",
   "name": "python3"
  },
  "language_info": {
   "codemirror_mode": {
    "name": "ipython",
    "version": 3
   },
   "file_extension": ".py",
   "mimetype": "text/x-python",
   "name": "python",
   "nbconvert_exporter": "python",
   "pygments_lexer": "ipython3",
   "version": "3.7.3"
  }
 },
 "nbformat": 4,
 "nbformat_minor": 2
}

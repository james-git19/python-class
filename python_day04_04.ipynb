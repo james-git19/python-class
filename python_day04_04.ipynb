{
 "cells": [
  {
   "cell_type": "markdown",
   "metadata": {},
   "source": [
    "### UNIT12 지하철 시간대별 데이터 시각화하기"
   ]
  },
  {
   "cell_type": "code",
   "execution_count": 84,
   "metadata": {},
   "outputs": [],
   "source": [
    "import numpy as np\n",
    "import pandas as pd\n",
    "import matplotlib.pyplot as plt"
   ]
  },
  {
   "cell_type": "code",
   "execution_count": 85,
   "metadata": {},
   "outputs": [
    {
     "data": {
      "text/plain": [
       "(598, 53)"
      ]
     },
     "execution_count": 85,
     "metadata": {},
     "output_type": "execute_result"
    }
   ],
   "source": [
    "df = pd.read_excel('2019년 05월  교통카드 통계자료.xls', sheet_name=3, encoding='cp949')\n",
    "df.shape"
   ]
  },
  {
   "cell_type": "code",
   "execution_count": 86,
   "metadata": {},
   "outputs": [
    {
     "data": {
      "text/html": [
       "<div>\n",
       "<style scoped>\n",
       "    .dataframe tbody tr th:only-of-type {\n",
       "        vertical-align: middle;\n",
       "    }\n",
       "\n",
       "    .dataframe tbody tr th {\n",
       "        vertical-align: top;\n",
       "    }\n",
       "\n",
       "    .dataframe thead th {\n",
       "        text-align: right;\n",
       "    }\n",
       "</style>\n",
       "<table border=\"1\" class=\"dataframe\">\n",
       "  <thead>\n",
       "    <tr style=\"text-align: right;\">\n",
       "      <th></th>\n",
       "      <th>사용월</th>\n",
       "      <th>호선명</th>\n",
       "      <th>역ID</th>\n",
       "      <th>지하철역</th>\n",
       "      <th>04:00:00~04:59:59</th>\n",
       "      <th>Unnamed: 5</th>\n",
       "      <th>05:00:00~05:59:59</th>\n",
       "      <th>Unnamed: 7</th>\n",
       "      <th>06:00:00~06:59:59</th>\n",
       "      <th>Unnamed: 9</th>\n",
       "      <th>...</th>\n",
       "      <th>Unnamed: 43</th>\n",
       "      <th>00:00:00~00:59:59</th>\n",
       "      <th>Unnamed: 45</th>\n",
       "      <th>01:00:00~01:59:59</th>\n",
       "      <th>Unnamed: 47</th>\n",
       "      <th>02:00:00~02:59:59</th>\n",
       "      <th>Unnamed: 49</th>\n",
       "      <th>03:00:00~03:59:59</th>\n",
       "      <th>Unnamed: 51</th>\n",
       "      <th>작업일시</th>\n",
       "    </tr>\n",
       "  </thead>\n",
       "  <tbody>\n",
       "    <tr>\n",
       "      <th>0</th>\n",
       "      <td>NaN</td>\n",
       "      <td>NaN</td>\n",
       "      <td>NaN</td>\n",
       "      <td>NaN</td>\n",
       "      <td>승차</td>\n",
       "      <td>하차</td>\n",
       "      <td>승차</td>\n",
       "      <td>하차</td>\n",
       "      <td>승차</td>\n",
       "      <td>하차</td>\n",
       "      <td>...</td>\n",
       "      <td>하차</td>\n",
       "      <td>승차</td>\n",
       "      <td>하차</td>\n",
       "      <td>승차</td>\n",
       "      <td>하차</td>\n",
       "      <td>승차</td>\n",
       "      <td>하차</td>\n",
       "      <td>승차</td>\n",
       "      <td>하차</td>\n",
       "      <td>NaN</td>\n",
       "    </tr>\n",
       "    <tr>\n",
       "      <th>1</th>\n",
       "      <td>2019-05</td>\n",
       "      <td>1호선</td>\n",
       "      <td>150.0</td>\n",
       "      <td>서울역</td>\n",
       "      <td>1,148</td>\n",
       "      <td>21</td>\n",
       "      <td>11,958</td>\n",
       "      <td>10,579</td>\n",
       "      <td>15,684</td>\n",
       "      <td>61,286</td>\n",
       "      <td>...</td>\n",
       "      <td>22,083</td>\n",
       "      <td>4,127</td>\n",
       "      <td>7,762</td>\n",
       "      <td>3</td>\n",
       "      <td>548</td>\n",
       "      <td>0</td>\n",
       "      <td>0</td>\n",
       "      <td>0</td>\n",
       "      <td>0</td>\n",
       "      <td>2019-06-03 10:56:25</td>\n",
       "    </tr>\n",
       "    <tr>\n",
       "      <th>2</th>\n",
       "      <td>2019-05</td>\n",
       "      <td>1호선</td>\n",
       "      <td>151.0</td>\n",
       "      <td>시청</td>\n",
       "      <td>89</td>\n",
       "      <td>5</td>\n",
       "      <td>2,843</td>\n",
       "      <td>4,674</td>\n",
       "      <td>4,169</td>\n",
       "      <td>24,963</td>\n",
       "      <td>...</td>\n",
       "      <td>4,767</td>\n",
       "      <td>931</td>\n",
       "      <td>1,426</td>\n",
       "      <td>1</td>\n",
       "      <td>25</td>\n",
       "      <td>0</td>\n",
       "      <td>0</td>\n",
       "      <td>0</td>\n",
       "      <td>0</td>\n",
       "      <td>2019-06-03 10:56:25</td>\n",
       "    </tr>\n",
       "    <tr>\n",
       "      <th>3</th>\n",
       "      <td>2019-05</td>\n",
       "      <td>1호선</td>\n",
       "      <td>152.0</td>\n",
       "      <td>종각</td>\n",
       "      <td>116</td>\n",
       "      <td>3</td>\n",
       "      <td>4,576</td>\n",
       "      <td>5,233</td>\n",
       "      <td>4,780</td>\n",
       "      <td>33,366</td>\n",
       "      <td>...</td>\n",
       "      <td>5,882</td>\n",
       "      <td>3,973</td>\n",
       "      <td>1,565</td>\n",
       "      <td>1</td>\n",
       "      <td>1</td>\n",
       "      <td>0</td>\n",
       "      <td>0</td>\n",
       "      <td>0</td>\n",
       "      <td>0</td>\n",
       "      <td>2019-06-03 10:56:25</td>\n",
       "    </tr>\n",
       "    <tr>\n",
       "      <th>4</th>\n",
       "      <td>2019-05</td>\n",
       "      <td>1호선</td>\n",
       "      <td>153.0</td>\n",
       "      <td>종로3가</td>\n",
       "      <td>216</td>\n",
       "      <td>16</td>\n",
       "      <td>5,505</td>\n",
       "      <td>3,036</td>\n",
       "      <td>4,790</td>\n",
       "      <td>16,235</td>\n",
       "      <td>...</td>\n",
       "      <td>6,715</td>\n",
       "      <td>3,375</td>\n",
       "      <td>2,753</td>\n",
       "      <td>1</td>\n",
       "      <td>37</td>\n",
       "      <td>0</td>\n",
       "      <td>1</td>\n",
       "      <td>0</td>\n",
       "      <td>0</td>\n",
       "      <td>2019-06-03 10:56:25</td>\n",
       "    </tr>\n",
       "  </tbody>\n",
       "</table>\n",
       "<p>5 rows × 53 columns</p>\n",
       "</div>"
      ],
      "text/plain": [
       "       사용월  호선명    역ID  지하철역 04:00:00~04:59:59 Unnamed: 5 05:00:00~05:59:59  \\\n",
       "0      NaN  NaN    NaN   NaN                승차         하차                승차   \n",
       "1  2019-05  1호선  150.0   서울역             1,148         21            11,958   \n",
       "2  2019-05  1호선  151.0    시청                89          5             2,843   \n",
       "3  2019-05  1호선  152.0    종각               116          3             4,576   \n",
       "4  2019-05  1호선  153.0  종로3가               216         16             5,505   \n",
       "\n",
       "  Unnamed: 7 06:00:00~06:59:59 Unnamed: 9  ... Unnamed: 43 00:00:00~00:59:59  \\\n",
       "0         하차                승차         하차  ...          하차                승차   \n",
       "1     10,579            15,684     61,286  ...      22,083             4,127   \n",
       "2      4,674             4,169     24,963  ...       4,767               931   \n",
       "3      5,233             4,780     33,366  ...       5,882             3,973   \n",
       "4      3,036             4,790     16,235  ...       6,715             3,375   \n",
       "\n",
       "  Unnamed: 45 01:00:00~01:59:59 Unnamed: 47 02:00:00~02:59:59 Unnamed: 49  \\\n",
       "0          하차                승차          하차                승차          하차   \n",
       "1       7,762                 3         548                 0           0   \n",
       "2       1,426                 1          25                 0           0   \n",
       "3       1,565                 1           1                 0           0   \n",
       "4       2,753                 1          37                 0           1   \n",
       "\n",
       "  03:00:00~03:59:59 Unnamed: 51                 작업일시  \n",
       "0                승차          하차                  NaN  \n",
       "1                 0           0  2019-06-03 10:56:25  \n",
       "2                 0           0  2019-06-03 10:56:25  \n",
       "3                 0           0  2019-06-03 10:56:25  \n",
       "4                 0           0  2019-06-03 10:56:25  \n",
       "\n",
       "[5 rows x 53 columns]"
      ]
     },
     "execution_count": 86,
     "metadata": {},
     "output_type": "execute_result"
    }
   ],
   "source": [
    "df.head() # 헤더가 2줄이라서 첫데이터가 문제가 생김"
   ]
  },
  {
   "cell_type": "code",
   "execution_count": 87,
   "metadata": {},
   "outputs": [
    {
     "data": {
      "text/html": [
       "<div>\n",
       "<style scoped>\n",
       "    .dataframe tbody tr th:only-of-type {\n",
       "        vertical-align: middle;\n",
       "    }\n",
       "\n",
       "    .dataframe tbody tr th {\n",
       "        vertical-align: top;\n",
       "    }\n",
       "\n",
       "    .dataframe thead th {\n",
       "        text-align: right;\n",
       "    }\n",
       "</style>\n",
       "<table border=\"1\" class=\"dataframe\">\n",
       "  <thead>\n",
       "    <tr style=\"text-align: right;\">\n",
       "      <th></th>\n",
       "      <th>사용월</th>\n",
       "      <th>호선명</th>\n",
       "      <th>역ID</th>\n",
       "      <th>지하철역</th>\n",
       "      <th>04:00:00~04:59:59</th>\n",
       "      <th>Unnamed: 5</th>\n",
       "      <th>05:00:00~05:59:59</th>\n",
       "      <th>Unnamed: 7</th>\n",
       "      <th>06:00:00~06:59:59</th>\n",
       "      <th>Unnamed: 9</th>\n",
       "      <th>...</th>\n",
       "      <th>Unnamed: 43</th>\n",
       "      <th>00:00:00~00:59:59</th>\n",
       "      <th>Unnamed: 45</th>\n",
       "      <th>01:00:00~01:59:59</th>\n",
       "      <th>Unnamed: 47</th>\n",
       "      <th>02:00:00~02:59:59</th>\n",
       "      <th>Unnamed: 49</th>\n",
       "      <th>03:00:00~03:59:59</th>\n",
       "      <th>Unnamed: 51</th>\n",
       "      <th>작업일시</th>\n",
       "    </tr>\n",
       "  </thead>\n",
       "  <tbody>\n",
       "    <tr>\n",
       "      <th>1</th>\n",
       "      <td>2019-05</td>\n",
       "      <td>1호선</td>\n",
       "      <td>150.0</td>\n",
       "      <td>서울역</td>\n",
       "      <td>1148</td>\n",
       "      <td>21</td>\n",
       "      <td>11958</td>\n",
       "      <td>10579</td>\n",
       "      <td>15684</td>\n",
       "      <td>61286</td>\n",
       "      <td>...</td>\n",
       "      <td>22083</td>\n",
       "      <td>4127</td>\n",
       "      <td>7762</td>\n",
       "      <td>3</td>\n",
       "      <td>548</td>\n",
       "      <td>0</td>\n",
       "      <td>0</td>\n",
       "      <td>0</td>\n",
       "      <td>0</td>\n",
       "      <td>2019-06-03 10:56:25</td>\n",
       "    </tr>\n",
       "    <tr>\n",
       "      <th>2</th>\n",
       "      <td>2019-05</td>\n",
       "      <td>1호선</td>\n",
       "      <td>151.0</td>\n",
       "      <td>시청</td>\n",
       "      <td>89</td>\n",
       "      <td>5</td>\n",
       "      <td>2843</td>\n",
       "      <td>4674</td>\n",
       "      <td>4169</td>\n",
       "      <td>24963</td>\n",
       "      <td>...</td>\n",
       "      <td>4767</td>\n",
       "      <td>931</td>\n",
       "      <td>1426</td>\n",
       "      <td>1</td>\n",
       "      <td>25</td>\n",
       "      <td>0</td>\n",
       "      <td>0</td>\n",
       "      <td>0</td>\n",
       "      <td>0</td>\n",
       "      <td>2019-06-03 10:56:25</td>\n",
       "    </tr>\n",
       "    <tr>\n",
       "      <th>3</th>\n",
       "      <td>2019-05</td>\n",
       "      <td>1호선</td>\n",
       "      <td>152.0</td>\n",
       "      <td>종각</td>\n",
       "      <td>116</td>\n",
       "      <td>3</td>\n",
       "      <td>4576</td>\n",
       "      <td>5233</td>\n",
       "      <td>4780</td>\n",
       "      <td>33366</td>\n",
       "      <td>...</td>\n",
       "      <td>5882</td>\n",
       "      <td>3973</td>\n",
       "      <td>1565</td>\n",
       "      <td>1</td>\n",
       "      <td>1</td>\n",
       "      <td>0</td>\n",
       "      <td>0</td>\n",
       "      <td>0</td>\n",
       "      <td>0</td>\n",
       "      <td>2019-06-03 10:56:25</td>\n",
       "    </tr>\n",
       "    <tr>\n",
       "      <th>4</th>\n",
       "      <td>2019-05</td>\n",
       "      <td>1호선</td>\n",
       "      <td>153.0</td>\n",
       "      <td>종로3가</td>\n",
       "      <td>216</td>\n",
       "      <td>16</td>\n",
       "      <td>5505</td>\n",
       "      <td>3036</td>\n",
       "      <td>4790</td>\n",
       "      <td>16235</td>\n",
       "      <td>...</td>\n",
       "      <td>6715</td>\n",
       "      <td>3375</td>\n",
       "      <td>2753</td>\n",
       "      <td>1</td>\n",
       "      <td>37</td>\n",
       "      <td>0</td>\n",
       "      <td>1</td>\n",
       "      <td>0</td>\n",
       "      <td>0</td>\n",
       "      <td>2019-06-03 10:56:25</td>\n",
       "    </tr>\n",
       "    <tr>\n",
       "      <th>5</th>\n",
       "      <td>2019-05</td>\n",
       "      <td>1호선</td>\n",
       "      <td>154.0</td>\n",
       "      <td>종로5가</td>\n",
       "      <td>51</td>\n",
       "      <td>3</td>\n",
       "      <td>2245</td>\n",
       "      <td>4205</td>\n",
       "      <td>3415</td>\n",
       "      <td>19150</td>\n",
       "      <td>...</td>\n",
       "      <td>3661</td>\n",
       "      <td>810</td>\n",
       "      <td>1200</td>\n",
       "      <td>0</td>\n",
       "      <td>6</td>\n",
       "      <td>0</td>\n",
       "      <td>0</td>\n",
       "      <td>0</td>\n",
       "      <td>0</td>\n",
       "      <td>2019-06-03 10:56:25</td>\n",
       "    </tr>\n",
       "  </tbody>\n",
       "</table>\n",
       "<p>5 rows × 53 columns</p>\n",
       "</div>"
      ],
      "text/plain": [
       "       사용월  호선명    역ID  지하철역 04:00:00~04:59:59 Unnamed: 5 05:00:00~05:59:59  \\\n",
       "1  2019-05  1호선  150.0   서울역              1148         21             11958   \n",
       "2  2019-05  1호선  151.0    시청                89          5              2843   \n",
       "3  2019-05  1호선  152.0    종각               116          3              4576   \n",
       "4  2019-05  1호선  153.0  종로3가               216         16              5505   \n",
       "5  2019-05  1호선  154.0  종로5가                51          3              2245   \n",
       "\n",
       "  Unnamed: 7 06:00:00~06:59:59 Unnamed: 9  ... Unnamed: 43 00:00:00~00:59:59  \\\n",
       "1      10579             15684      61286  ...       22083              4127   \n",
       "2       4674              4169      24963  ...        4767               931   \n",
       "3       5233              4780      33366  ...        5882              3973   \n",
       "4       3036              4790      16235  ...        6715              3375   \n",
       "5       4205              3415      19150  ...        3661               810   \n",
       "\n",
       "  Unnamed: 45 01:00:00~01:59:59 Unnamed: 47 02:00:00~02:59:59 Unnamed: 49  \\\n",
       "1        7762                 3         548                 0           0   \n",
       "2        1426                 1          25                 0           0   \n",
       "3        1565                 1           1                 0           0   \n",
       "4        2753                 1          37                 0           1   \n",
       "5        1200                 0           6                 0           0   \n",
       "\n",
       "  03:00:00~03:59:59 Unnamed: 51                 작업일시  \n",
       "1                 0           0  2019-06-03 10:56:25  \n",
       "2                 0           0  2019-06-03 10:56:25  \n",
       "3                 0           0  2019-06-03 10:56:25  \n",
       "4                 0           0  2019-06-03 10:56:25  \n",
       "5                 0           0  2019-06-03 10:56:25  \n",
       "\n",
       "[5 rows x 53 columns]"
      ]
     },
     "execution_count": 87,
     "metadata": {},
     "output_type": "execute_result"
    }
   ],
   "source": [
    "df0 = df.drop(0).dropna() # index가 0인 행을 삭제한다. 0이라는 인덱스로는 찾을 수 없다.\n",
    "df0 = df0.replace(',', '', regex=True)\n",
    "df0.head()"
   ]
  },
  {
   "cell_type": "code",
   "execution_count": 88,
   "metadata": {},
   "outputs": [
    {
     "data": {
      "text/plain": [
       "array(['2019-05', '1호선', 150.0, '서울역', '1148', '21', '11958', '10579',\n",
       "       '15684', '61286', '44585', '115354', '89357', '238583', '68146',\n",
       "       '171350', '73525', '94790', '92022', '85227', '101383', '89704',\n",
       "       '102975', '93903', '87681', '89304', '115315', '91208', '123612',\n",
       "       '95981', '167329', '105879', '253795', '113369', '144348', '84947',\n",
       "       '103166', '63630', '101273', '54836', '77000', '41500', '37939',\n",
       "       '22083', '4127', '7762', '3', '548', '0', '0', '0', '0',\n",
       "       '2019-06-03 10:56:25'], dtype=object)"
      ]
     },
     "execution_count": 88,
     "metadata": {},
     "output_type": "execute_result"
    }
   ],
   "source": [
    "arr = np.array(df0)\n",
    "arr[0]"
   ]
  },
  {
   "cell_type": "markdown",
   "metadata": {},
   "source": [
    "출근 시간대에 사람들이 가장 많이 타고 내리는 역은 어딜까?\n",
    "- 출근 시간대는 언제인가? 새벽 ~ 오전 9시\n",
    "- 상위 10개 역\n",
    "- 타는 역 / 내리는 역"
   ]
  },
  {
   "cell_type": "code",
   "execution_count": 105,
   "metadata": {},
   "outputs": [],
   "source": [
    "출근시간시작위치 = 4\n",
    "출근시간끝위치 = 13\n",
    "역이름 = arr[:, 3]\n",
    "출근시간승차인원 = arr[:, 출근시간시작위치:출근시간끝위치:2].astype(np.int)\n",
    "출근시간하차인원 = arr[:, (출근시간시작위치+1):(출근시간끝위치+1):2].astype(np.int)\n",
    "출근시간승차인원합 = 출근시간승차인원.sum(1)\n",
    "출근시간하차인원합 = 출근시간하차인원.sum(1)"
   ]
  },
  {
   "cell_type": "code",
   "execution_count": 106,
   "metadata": {},
   "outputs": [
    {
     "data": {
      "text/plain": [
       "(array(['잠실(송파구청)', '서울대입구(관악구청)', '신림', '구로디지털단지', '신도림', '연신내', '쌍문',\n",
       "        '수유(강북구청)', '화곡', '까치산'], dtype=object),\n",
       " array([412219, 454340, 759642, 490300, 444523, 454963, 412919, 382801,\n",
       "        389612, 413462]))"
      ]
     },
     "execution_count": 106,
     "metadata": {},
     "output_type": "execute_result"
    }
   ],
   "source": [
    "grade = 10\n",
    "\n",
    "승차기준값 = np.sort(출근시간승차인원합)[-grade]\n",
    "승차mask = 출근시간승차인원합 >= threshold\n",
    "역이름[승차mask], 출근시간승차인원합[승차mask]"
   ]
  },
  {
   "cell_type": "code",
   "execution_count": 107,
   "metadata": {},
   "outputs": [
    {
     "data": {
      "image/png": "[encoded data removed]",
      "text/plain": [
       "<Figure size 432x288 with 1 Axes>"
      ]
     },
     "metadata": {
      "needs_background": "light"
     },
     "output_type": "display_data"
    }
   ],
   "source": [
    "plt.rc('font', family='Malgun Gothic')\n",
    "plt.barh(역이름[승차mask], 출근시간승차인원합[승차mask])\n",
    "plt.show()"
   ]
  },
  {
   "cell_type": "code",
   "execution_count": 108,
   "metadata": {},
   "outputs": [
    {
     "data": {
      "text/plain": [
       "(array(['서울역', '종각', '을지로입구', '삼성(무역센터)', '선릉', '역삼', '강남', '구로디지털단지',\n",
       "        '양재(서초구청)', '여의도', '광화문(세종문화회관)', '가산디지털단지'], dtype=object),\n",
       " array([425823, 442470, 522850, 565573, 490141, 561074, 634417, 397532,\n",
       "        444935, 398099, 449314, 560341]))"
      ]
     },
     "execution_count": 108,
     "metadata": {},
     "output_type": "execute_result"
    }
   ],
   "source": [
    "하차기준값 = np.sort(출근시간하차인원합)[-grade]\n",
    "하차mask = 출근시간하차인원합 >= threshold\n",
    "역이름[하차mask], 출근시간하차인원합[하차mask]"
   ]
  },
  {
   "cell_type": "code",
   "execution_count": 109,
   "metadata": {},
   "outputs": [
    {
     "data": {
      "image/png": "[encoded data removed]",
      "text/plain": [
       "<Figure size 432x288 with 1 Axes>"
      ]
     },
     "metadata": {
      "needs_background": "light"
     },
     "output_type": "display_data"
    }
   ],
   "source": [
    "plt.rc('font', family='Malgun Gothic')\n",
    "plt.barh(역이름[하차mask], 출근시간하차인원합[하차mask])\n",
    "plt.show()"
   ]
  },
  {
   "cell_type": "markdown",
   "metadata": {},
   "source": [
    "밤 11시에 사람들이 가장 많이 타는 역은 어디일까?"
   ]
  },
  {
   "cell_type": "code",
   "execution_count": 110,
   "metadata": {},
   "outputs": [
    {
     "data": {
      "text/plain": [
       "(array(['2호선', '홍대입구'], dtype=object), 151504)"
      ]
     },
     "execution_count": 110,
     "metadata": {},
     "output_type": "execute_result"
    }
   ],
   "source": [
    "밤11시승차 = arr[:,-11].astype(np.int)\n",
    "idx = 밤11시승차.argmax()\n",
    "arr[idx, 1:4:2], 밤11시승차[idx]"
   ]
  },
  {
   "cell_type": "code",
   "execution_count": 111,
   "metadata": {},
   "outputs": [
    {
     "data": {
      "text/plain": [
       "(array(['종각', '건대입구', '잠실(송파구청)', '강남', '사당', '합정', '홍대입구', '신촌', '혜화',\n",
       "        '명동'], dtype=object),\n",
       " array([ 48067,  78429,  48786, 128937,  50264,  42696, 151504,  74678,\n",
       "         55240,  43998]))"
      ]
     },
     "execution_count": 111,
     "metadata": {},
     "output_type": "execute_result"
    }
   ],
   "source": [
    "밤11기준값 = np.sort(밤11시승차)[-grade]\n",
    "승차mask11 = 밤11시승차 >= 밤11기준값\n",
    "역이름[승차mask11], 밤11시승차[승차mask11]"
   ]
  },
  {
   "cell_type": "code",
   "execution_count": 112,
   "metadata": {},
   "outputs": [
    {
     "data": {
      "image/png": "[encoded data removed]",
      "text/plain": [
       "<Figure size 432x288 with 1 Axes>"
      ]
     },
     "metadata": {
      "needs_background": "light"
     },
     "output_type": "display_data"
    }
   ],
   "source": [
    "plt.rc('font', family='Malgun Gothic')\n",
    "plt.barh(역이름[승차mask11], 밤11시승차[승차mask11])\n",
    "plt.show()"
   ]
  },
  {
   "cell_type": "code",
   "execution_count": null,
   "metadata": {},
   "outputs": [],
   "source": []
  }
 ],
 "metadata": {
  "kernelspec": {
   "display_name": "Python 3",
   "language": "python",
   "name": "python3"
  },
  "language_info": {
   "codemirror_mode": {
    "name": "ipython",
    "version": 3
   },
   "file_extension": ".py",
   "mimetype": "text/x-python",
   "name": "python",
   "nbconvert_exporter": "python",
   "pygments_lexer": "ipython3",
   "version": "3.7.3"
  }
 },
 "nbformat": 4,
 "nbformat_minor": 2
}

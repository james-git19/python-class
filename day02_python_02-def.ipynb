{
 "cells": [
  {
   "cell_type": "markdown",
   "metadata": {},
   "source": [
    "## Tuple type\n",
    "\n",
    "- T = (x1, x2, x3, ...)\n",
    "- 특징 : List 와 달리 값의 수정이 불가능하다.\n",
    "- 활용 : 함수의 리턴이 복수일때 튜플로 반환된다."
   ]
  },
  {
   "cell_type": "code",
   "execution_count": 3,
   "metadata": {},
   "outputs": [
    {
     "data": {
      "text/plain": [
       "(1, 2, 3, 'a', 'b', 'a')"
      ]
     },
     "execution_count": 3,
     "metadata": {},
     "output_type": "execute_result"
    }
   ],
   "source": [
    "t = (1, 2, 3, 'a', 'b', 'a')\n",
    "t"
   ]
  },
  {
   "cell_type": "code",
   "execution_count": 4,
   "metadata": {},
   "outputs": [
    {
     "data": {
      "text/plain": [
       "2"
      ]
     },
     "execution_count": 4,
     "metadata": {},
     "output_type": "execute_result"
    }
   ],
   "source": [
    "t.count('a')"
   ]
  },
  {
   "cell_type": "code",
   "execution_count": 5,
   "metadata": {},
   "outputs": [
    {
     "data": {
      "text/plain": [
       "3"
      ]
     },
     "execution_count": 5,
     "metadata": {},
     "output_type": "execute_result"
    }
   ],
   "source": [
    "t.index('a')"
   ]
  },
  {
   "cell_type": "code",
   "execution_count": 6,
   "metadata": {},
   "outputs": [
    {
     "ename": "TypeError",
     "evalue": "'tuple' object does not support item assignment",
     "output_type": "error",
     "traceback": [
      "\u001b[1;31m---------------------------------------------------------------------------\u001b[0m",
      "\u001b[1;31mTypeError\u001b[0m                                 Traceback (most recent call last)",
      "\u001b[1;32m<ipython-input-6-e9b486d33dff>\u001b[0m in \u001b[0;36m<module>\u001b[1;34m\u001b[0m\n\u001b[1;32m----> 1\u001b[1;33m \u001b[0mt\u001b[0m\u001b[1;33m[\u001b[0m\u001b[1;36m2\u001b[0m\u001b[1;33m]\u001b[0m \u001b[1;33m=\u001b[0m \u001b[1;36m120\u001b[0m\u001b[1;33m\u001b[0m\u001b[1;33m\u001b[0m\u001b[0m\n\u001b[0m",
      "\u001b[1;31mTypeError\u001b[0m: 'tuple' object does not support item assignment"
     ]
    }
   ],
   "source": [
    "t[2] = 120 # 수정 불가"
   ]
  },
  {
   "cell_type": "markdown",
   "metadata": {},
   "source": [
    "## Set Type\n",
    "\n",
    "- s = set([x1, x2, ...])\n",
    "- 중복이나 순서없이 저장하는 타입"
   ]
  },
  {
   "cell_type": "code",
   "execution_count": 7,
   "metadata": {},
   "outputs": [
    {
     "data": {
      "text/plain": [
       "{1, 2, 3, 'a', 'b'}"
      ]
     },
     "execution_count": 7,
     "metadata": {},
     "output_type": "execute_result"
    }
   ],
   "source": [
    "s = set(t) # t를 set으로 변환해라\n",
    "s"
   ]
  },
  {
   "cell_type": "code",
   "execution_count": 10,
   "metadata": {},
   "outputs": [
    {
     "data": {
      "text/plain": [
       "{1, 2, 3, 'a', 'b', 'c'}"
      ]
     },
     "execution_count": 10,
     "metadata": {},
     "output_type": "execute_result"
    }
   ],
   "source": [
    "l = set(s) # set을 list 변환\n",
    "l.add('c')\n",
    "l"
   ]
  },
  {
   "cell_type": "markdown",
   "metadata": {},
   "source": [
    "## 딕셔너리\n",
    "\n",
    "변수명 = {키:값, 키:값, ...}"
   ]
  },
  {
   "cell_type": "code",
   "execution_count": 2,
   "metadata": {},
   "outputs": [
    {
     "data": {
      "text/plain": [
       "({'age': 30, 'city': 'seoul'}, 30)"
      ]
     },
     "execution_count": 2,
     "metadata": {},
     "output_type": "execute_result"
    }
   ],
   "source": [
    "d = {'age':30, 'city':'seoul'}\n",
    "d, d['age']"
   ]
  },
  {
   "cell_type": "code",
   "execution_count": 12,
   "metadata": {},
   "outputs": [
    {
     "data": {
      "text/plain": [
       "{'A1': 100, 'A2': ''}"
      ]
     },
     "execution_count": 12,
     "metadata": {},
     "output_type": "execute_result"
    }
   ],
   "source": [
    "excel = {'A1':'', 'A2':''}\n",
    "excel['A1'] = 100\n",
    "excel"
   ]
  },
  {
   "cell_type": "markdown",
   "metadata": {},
   "source": [
    "## 함수 만들기\n",
    "\n",
    "def <함수명>(인자1, 인자2[=초기값], ...):\n",
    "    '''함수에 대한 설명'''\n",
    "    { code }\n",
    "    return(결과)"
   ]
  },
  {
   "cell_type": "code",
   "execution_count": 30,
   "metadata": {},
   "outputs": [],
   "source": [
    "def add_3(a, b=0, c=0):\n",
    "    '''인자를 모두 더해준다.'''\n",
    "    return (a + b + c)"
   ]
  },
  {
   "cell_type": "code",
   "execution_count": 31,
   "metadata": {},
   "outputs": [
    {
     "data": {
      "text/plain": [
       "(6, 8, 8, 32)"
      ]
     },
     "execution_count": 31,
     "metadata": {},
     "output_type": "execute_result"
    }
   ],
   "source": [
    "add_3(1, 2, 3), add_3(5, 3), add_3(8), add_3(2, c=30)"
   ]
  },
  {
   "cell_type": "code",
   "execution_count": 23,
   "metadata": {},
   "outputs": [],
   "source": [
    "# 반환값(return)이 없는 함수\n",
    "import math\n",
    "\n",
    "def check_nan(x):\n",
    "    if (math.isnan(x)): # nan : not a number\n",
    "        print(x, '는 NaN 입니다.')\n",
    "    else:\n",
    "        print(x, '는 숫자 입니다.')"
   ]
  },
  {
   "cell_type": "code",
   "execution_count": 24,
   "metadata": {},
   "outputs": [
    {
     "name": "stdout",
     "output_type": "stream",
     "text": [
      "100 는 숫자 입니다.\n",
      "None\n"
     ]
    }
   ],
   "source": [
    "print(check_nan(100)) # 리턴이 없는 경우 None 반환"
   ]
  },
  {
   "cell_type": "code",
   "execution_count": 175,
   "metadata": {},
   "outputs": [],
   "source": [
    "import random\n",
    "\n",
    "class  Lotto:\n",
    "    '''1 ~ 45 사이의 숫자를 6개 생성'''\n",
    "    def __init__(self):\n",
    "        self.numbers = []\n",
    "        self.bonus_num = 0\n",
    "        for i in range(6) :\n",
    "            n = random.randint(1, 45)\n",
    "            while (n in self.numbers) :\n",
    "                n = random.randrange(1, 45)\n",
    "            self.numbers.append(n)\n",
    "        self.numbers.sort()\n",
    "\n",
    "        n = random.randint(1, 45)\n",
    "        while (n in self.numbers) :\n",
    "            n = random.randrange(1, 45)\n",
    "        self.bonus_num = n\n",
    "        \n",
    "    def disp(self):\n",
    "        print(self.numbers, 'bonus =', self.bonus_num)\n",
    "    \n",
    "    def select(self, your_numbers):\n",
    "        r = set(self.numbers) & set(your_numbers)\n",
    "        grade = 7 - len(r)\n",
    "        \n",
    "        if (not ((grade == 1) or ((grade == 2) and (self.bonus_num in your_numbers)))):\n",
    "            grade += 1\n",
    "\n",
    "        if (grade > 5):\n",
    "            print('죄송합니다. 다음에 다시 도전하세요.')\n",
    "        else:\n",
    "            print('축하합니다. {}등에 당첨 되셨습니다.'.format(grade))\n",
    "\n",
    "        if (grade == 2):\n",
    "            print('일치하는 번호는 {}와 보너스 번호입니다.'.format(r))\n",
    "        elif (len(r) == 0):\n",
    "            print('일치하는 번호가 없습니다.')\n",
    "        else:\n",
    "            print('일치하는 번호는 {} 입니다.'.format(r))\n",
    "\n",
    "    def selects(self, your_numbers):\n",
    "        for i in range(len(your_numbers)):\n",
    "            print('<{}번째>'.format(i + 1))\n",
    "            self.select(your_numbers[i])\n"
   ]
  },
  {
   "cell_type": "code",
   "execution_count": 176,
   "metadata": {},
   "outputs": [
    {
     "name": "stdout",
     "output_type": "stream",
     "text": [
      "[4, 10, 31, 36, 42, 45] bonus = 40\n",
      "<1번째>\n",
      "죄송합니다. 다음에 다시 도전하세요.\n",
      "일치하는 번호는 {4, 45} 입니다.\n",
      "<2번째>\n",
      "죄송합니다. 다음에 다시 도전하세요.\n",
      "일치하는 번호가 없습니다.\n"
     ]
    }
   ],
   "source": [
    "lot = Lotto()\n",
    "lot.disp()\n",
    "lot.selects([[2, 4, 11, 12, 17, 45], [13, 20, 23, 25, 27, 32]])"
   ]
  },
  {
   "cell_type": "code",
   "execution_count": 177,
   "metadata": {},
   "outputs": [
    {
     "name": "stdout",
     "output_type": "stream",
     "text": [
      "죄송합니다. 다음에 다시 도전하세요.\n",
      "일치하는 번호가 없습니다.\n"
     ]
    }
   ],
   "source": [
    "lot.select([2, 13, 20, 23, 25, 27])"
   ]
  },
  {
   "cell_type": "code",
   "execution_count": null,
   "metadata": {},
   "outputs": [],
   "source": []
  }
 ],
 "metadata": {
  "kernelspec": {
   "display_name": "Python 3",
   "language": "python",
   "name": "python3"
  },
  "language_info": {
   "codemirror_mode": {
    "name": "ipython",
    "version": 3
   },
   "file_extension": ".py",
   "mimetype": "text/x-python",
   "name": "python",
   "nbconvert_exporter": "python",
   "pygments_lexer": "ipython3",
   "version": "3.7.3"
  }
 },
 "nbformat": 4,
 "nbformat_minor": 2
}

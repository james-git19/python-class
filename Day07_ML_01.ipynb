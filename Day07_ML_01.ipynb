{
 "cells": [
  {
   "cell_type": "markdown",
   "metadata": {},
   "source": [
    "### KNN 연습\n",
    "- KNN 으로 붓꽃 분류하기\n",
    "- UCI 데이터셋 다운로드\n",
    "- pandas 로 읽기\n",
    "- 입력(X:꽃잎과 꽃받침의 길이, 너비)과 출력(Y:품종) 분리\n",
    "- 150개의 인스턴스(샘플, ROW)을 학습용(75%)와 테스트용(25%)로 분리\n",
    "- 모델을 선정: KNN, k = 3 ~ 5 (일반적) (테스트를 통해 최종값 선정)\n",
    "- 목표 : 테스트 샘플의 분류 정확도를 높이기"
   ]
  },
  {
   "cell_type": "code",
   "execution_count": 1,
   "metadata": {},
   "outputs": [],
   "source": [
    "import pandas as pd\n",
    "import numpy as np\n",
    "import matplotlib.pyplot as plt"
   ]
  },
  {
   "cell_type": "code",
   "execution_count": 6,
   "metadata": {},
   "outputs": [],
   "source": [
    "df = pd.read_csv('iris.data', header=None)"
   ]
  },
  {
   "cell_type": "code",
   "execution_count": 4,
   "metadata": {},
   "outputs": [
    {
     "name": "stdout",
     "output_type": "stream",
     "text": [
      "<class 'pandas.core.frame.DataFrame'>\n",
      "RangeIndex: 150 entries, 0 to 149\n",
      "Data columns (total 5 columns):\n",
      "0    150 non-null float64\n",
      "1    150 non-null float64\n",
      "2    150 non-null float64\n",
      "3    150 non-null float64\n",
      "4    150 non-null object\n",
      "dtypes: float64(4), object(1)\n",
      "memory usage: 5.9+ KB\n"
     ]
    }
   ],
   "source": [
    "df.info()"
   ]
  },
  {
   "cell_type": "code",
   "execution_count": 8,
   "metadata": {},
   "outputs": [],
   "source": [
    "from sklearn.model_selection import train_test_split"
   ]
  },
  {
   "cell_type": "code",
   "execution_count": 9,
   "metadata": {},
   "outputs": [],
   "source": [
    "x = df.iloc[:, :4] # 붓꽃의 정보\n",
    "y = df.iloc[:, -1] # 붓꽃의 종류\n",
    "x.columns = ['꽃받침 길이', '꽃받침 너비', '꽃잎 길이', '꽃잎 너비']"
   ]
  },
  {
   "cell_type": "code",
   "execution_count": 10,
   "metadata": {},
   "outputs": [
    {
     "data": {
      "text/plain": [
       "((112, 4), (38, 4))"
      ]
     },
     "execution_count": 10,
     "metadata": {},
     "output_type": "execute_result"
    }
   ],
   "source": [
    "x_train, x_test, y_train, y_test = train_test_split(x, y, test_size=0.25, random_state=42)\n",
    "x_train.shape, x_test.shape"
   ]
  },
  {
   "cell_type": "code",
   "execution_count": 12,
   "metadata": {},
   "outputs": [],
   "source": [
    "from sklearn.neighbors import KNeighborsClassifier"
   ]
  },
  {
   "cell_type": "code",
   "execution_count": 17,
   "metadata": {},
   "outputs": [
    {
     "data": {
      "text/plain": [
       "KNeighborsClassifier(algorithm='auto', leaf_size=30, metric='minkowski',\n",
       "           metric_params=None, n_jobs=None, n_neighbors=3, p=2,\n",
       "           weights='uniform')"
      ]
     },
     "execution_count": 17,
     "metadata": {},
     "output_type": "execute_result"
    }
   ],
   "source": [
    "knn = KNeighborsClassifier(3)\n",
    "knn.fit(x_train, y_train) # 모델 최적화(Fitting)"
   ]
  },
  {
   "cell_type": "code",
   "execution_count": 18,
   "metadata": {},
   "outputs": [
    {
     "data": {
      "text/plain": [
       "array(['Iris-versicolor', 'Iris-setosa', 'Iris-virginica',\n",
       "       'Iris-versicolor', 'Iris-versicolor', 'Iris-setosa',\n",
       "       'Iris-versicolor', 'Iris-virginica', 'Iris-versicolor',\n",
       "       'Iris-versicolor', 'Iris-virginica', 'Iris-setosa', 'Iris-setosa',\n",
       "       'Iris-setosa', 'Iris-setosa', 'Iris-versicolor', 'Iris-virginica',\n",
       "       'Iris-versicolor', 'Iris-versicolor', 'Iris-virginica',\n",
       "       'Iris-setosa', 'Iris-virginica', 'Iris-setosa', 'Iris-virginica',\n",
       "       'Iris-virginica', 'Iris-virginica', 'Iris-virginica',\n",
       "       'Iris-virginica', 'Iris-setosa', 'Iris-setosa', 'Iris-setosa',\n",
       "       'Iris-setosa', 'Iris-versicolor', 'Iris-setosa', 'Iris-setosa',\n",
       "       'Iris-virginica', 'Iris-versicolor', 'Iris-setosa'], dtype=object)"
      ]
     },
     "execution_count": 18,
     "metadata": {},
     "output_type": "execute_result"
    }
   ],
   "source": [
    "knn.predict(x_test) # 예측하기"
   ]
  },
  {
   "cell_type": "code",
   "execution_count": 19,
   "metadata": {},
   "outputs": [
    {
     "data": {
      "text/plain": [
       "(0.9464285714285714, 1.0)"
      ]
     },
     "execution_count": 19,
     "metadata": {},
     "output_type": "execute_result"
    }
   ],
   "source": [
    "knn.score(x_train, y_train), knn.score(x_test, y_test)"
   ]
  },
  {
   "cell_type": "markdown",
   "metadata": {},
   "source": [
    "### 다음 코스피200"
   ]
  },
  {
   "cell_type": "code",
   "execution_count": 21,
   "metadata": {},
   "outputs": [],
   "source": [
    "import numpy as np\n",
    "import pandas as pd\n",
    "import matplotlib.pyplot as plt"
   ]
  },
  {
   "cell_type": "code",
   "execution_count": 27,
   "metadata": {},
   "outputs": [
    {
     "data": {
      "text/plain": [
       "3"
      ]
     },
     "execution_count": 27,
     "metadata": {},
     "output_type": "execute_result"
    }
   ],
   "source": [
    "df = pd.read_html('코스피200 _ 다음 금융.html', encoding='cp949', index_col=0)\n",
    "len(df)"
   ]
  },
  {
   "cell_type": "code",
   "execution_count": 28,
   "metadata": {},
   "outputs": [
    {
     "data": {
      "text/html": [
       "<div>\n",
       "<style scoped>\n",
       "    .dataframe tbody tr th:only-of-type {\n",
       "        vertical-align: middle;\n",
       "    }\n",
       "\n",
       "    .dataframe tbody tr th {\n",
       "        vertical-align: top;\n",
       "    }\n",
       "\n",
       "    .dataframe thead th {\n",
       "        text-align: right;\n",
       "    }\n",
       "</style>\n",
       "<table border=\"1\" class=\"dataframe\">\n",
       "  <thead>\n",
       "    <tr style=\"text-align: right;\">\n",
       "      <th></th>\n",
       "      <th>종가</th>\n",
       "      <th>전일비</th>\n",
       "      <th>등락률</th>\n",
       "      <th>거래량</th>\n",
       "      <th>거래대금</th>\n",
       "      <th>개인(억)</th>\n",
       "      <th>외국인(억)</th>\n",
       "      <th>기관(억)</th>\n",
       "    </tr>\n",
       "    <tr>\n",
       "      <th>일자</th>\n",
       "      <th></th>\n",
       "      <th></th>\n",
       "      <th></th>\n",
       "      <th></th>\n",
       "      <th></th>\n",
       "      <th></th>\n",
       "      <th></th>\n",
       "      <th></th>\n",
       "    </tr>\n",
       "  </thead>\n",
       "  <tbody>\n",
       "    <tr>\n",
       "      <th>19.07.02</th>\n",
       "      <td>276.84</td>\n",
       "      <td>▼0.43</td>\n",
       "      <td>-0.16%</td>\n",
       "      <td>22559</td>\n",
       "      <td>825303</td>\n",
       "      <td>318</td>\n",
       "      <td>84</td>\n",
       "      <td>-382</td>\n",
       "    </tr>\n",
       "    <tr>\n",
       "      <th>19.07.01</th>\n",
       "      <td>277.27</td>\n",
       "      <td>▼0.23</td>\n",
       "      <td>-0.08%</td>\n",
       "      <td>74357</td>\n",
       "      <td>3446049</td>\n",
       "      <td>-214</td>\n",
       "      <td>1286</td>\n",
       "      <td>365</td>\n",
       "    </tr>\n",
       "    <tr>\n",
       "      <th>19.06.28</th>\n",
       "      <td>277.50</td>\n",
       "      <td>▼0.25</td>\n",
       "      <td>-0.09%</td>\n",
       "      <td>67598</td>\n",
       "      <td>2879563</td>\n",
       "      <td>-1802</td>\n",
       "      <td>3011</td>\n",
       "      <td>-1189</td>\n",
       "    </tr>\n",
       "    <tr>\n",
       "      <th>19.06.27</th>\n",
       "      <td>277.75</td>\n",
       "      <td>▲2.22</td>\n",
       "      <td>+0.81%</td>\n",
       "      <td>66303</td>\n",
       "      <td>3357666</td>\n",
       "      <td>-4165</td>\n",
       "      <td>1837</td>\n",
       "      <td>2415</td>\n",
       "    </tr>\n",
       "    <tr>\n",
       "      <th>19.06.26</th>\n",
       "      <td>275.53</td>\n",
       "      <td>▲0.25</td>\n",
       "      <td>+0.09%</td>\n",
       "      <td>58818</td>\n",
       "      <td>2636531</td>\n",
       "      <td>-712</td>\n",
       "      <td>157</td>\n",
       "      <td>557</td>\n",
       "    </tr>\n",
       "  </tbody>\n",
       "</table>\n",
       "</div>"
      ],
      "text/plain": [
       "              종가    전일비     등락률    거래량     거래대금  개인(억)  외국인(억)  기관(억)\n",
       "일자                                                                   \n",
       "19.07.02  276.84  ▼0.43  -0.16%  22559   825303    318      84   -382\n",
       "19.07.01  277.27  ▼0.23  -0.08%  74357  3446049   -214    1286    365\n",
       "19.06.28  277.50  ▼0.25  -0.09%  67598  2879563  -1802    3011  -1189\n",
       "19.06.27  277.75  ▲2.22  +0.81%  66303  3357666  -4165    1837   2415\n",
       "19.06.26  275.53  ▲0.25  +0.09%  58818  2636531   -712     157    557"
      ]
     },
     "execution_count": 28,
     "metadata": {},
     "output_type": "execute_result"
    }
   ],
   "source": [
    "df[1].head()"
   ]
  },
  {
   "cell_type": "code",
   "execution_count": 29,
   "metadata": {},
   "outputs": [
    {
     "name": "stdout",
     "output_type": "stream",
     "text": [
      "<class 'pandas.core.frame.DataFrame'>\n",
      "Index: 10 entries, 19.07.02 to 19.06.19\n",
      "Data columns (total 8 columns):\n",
      "종가        10 non-null float64\n",
      "전일비       10 non-null object\n",
      "등락률       10 non-null object\n",
      "거래량       10 non-null int64\n",
      "거래대금      10 non-null int64\n",
      "개인(억)     10 non-null int64\n",
      "외국인(억)    10 non-null int64\n",
      "기관(억)     10 non-null int64\n",
      "dtypes: float64(1), int64(5), object(2)\n",
      "memory usage: 720.0+ bytes\n"
     ]
    }
   ],
   "source": [
    "df[1].info()"
   ]
  },
  {
   "cell_type": "code",
   "execution_count": 53,
   "metadata": {},
   "outputs": [
    {
     "name": "stdout",
     "output_type": "stream",
     "text": [
      "<class 'pandas.core.frame.DataFrame'>\n",
      "Index: 10 entries, 19.07.02 to 19.06.19\n",
      "Data columns (total 8 columns):\n",
      "종가        10 non-null float64\n",
      "전일비       10 non-null float32\n",
      "등락률       10 non-null float32\n",
      "거래량       10 non-null int64\n",
      "거래대금      10 non-null int64\n",
      "개인(억)     10 non-null int64\n",
      "외국인(억)    10 non-null int64\n",
      "기관(억)     10 non-null int64\n",
      "dtypes: float32(2), float64(1), int64(5)\n",
      "memory usage: 640.0+ bytes\n"
     ]
    }
   ],
   "source": [
    "# 전일비, 등락률의 특수문자를 삭제하고 실수로 변환한다.\n",
    "days = df[1].replace('▼', '', regex=True).replace('▲', '', regex=True).replace('%', '', regex=True)\n",
    "days['전일비'] = days['전일비'].astype('float32')\n",
    "days['등락률'] = days['등락률'].astype('float32')\n",
    "days.info()"
   ]
  },
  {
   "cell_type": "code",
   "execution_count": 50,
   "metadata": {},
   "outputs": [
    {
     "data": {
      "text/plain": [
       "((10, 6), (10,))"
      ]
     },
     "execution_count": 50,
     "metadata": {},
     "output_type": "execute_result"
    }
   ],
   "source": [
    "# X 로 쓰는 이유는 소문자 x 는 Elements 를 나타낼때 쓰기 때문\n",
    "X = days.iloc[:, 1:-1]\n",
    "y = days['종가']\n",
    "X.shape, y.shape"
   ]
  },
  {
   "cell_type": "code",
   "execution_count": 59,
   "metadata": {},
   "outputs": [],
   "source": [
    "# 상수보다는 변수를 쓰자. 향후 변경이 용이하다.\n",
    "offset = 8\n",
    "X_train = X[-offset:]\n",
    "X_test = X[:-offset]\n",
    "y_train = y[-offset:]\n",
    "y_test = y[:-offset]"
   ]
  },
  {
   "cell_type": "code",
   "execution_count": 60,
   "metadata": {},
   "outputs": [],
   "source": [
    "from sklearn.neighbors import KNeighborsRegressor"
   ]
  },
  {
   "cell_type": "code",
   "execution_count": 64,
   "metadata": {},
   "outputs": [
    {
     "data": {
      "text/plain": [
       "KNeighborsRegressor(algorithm='auto', leaf_size=30, metric='minkowski',\n",
       "          metric_params=None, n_jobs=None, n_neighbors=1, p=2,\n",
       "          weights='uniform')"
      ]
     },
     "execution_count": 64,
     "metadata": {},
     "output_type": "execute_result"
    }
   ],
   "source": [
    "knn = KNeighborsRegressor(n_neighbors=1) # 클래스의 instance 생성 문법\n",
    "knn.fit(X_train, y_train)"
   ]
  },
  {
   "cell_type": "code",
   "execution_count": 65,
   "metadata": {},
   "outputs": [
    {
     "data": {
      "text/plain": [
       "array([275.58, 277.75])"
      ]
     },
     "execution_count": 65,
     "metadata": {},
     "output_type": "execute_result"
    }
   ],
   "source": [
    "knn.predict(X_test)"
   ]
  },
  {
   "cell_type": "code",
   "execution_count": 67,
   "metadata": {},
   "outputs": [
    {
     "data": {
      "text/plain": [
       "1.0"
      ]
     },
     "execution_count": 67,
     "metadata": {},
     "output_type": "execute_result"
    }
   ],
   "source": [
    "# p71 결정 계수 : R^2\n",
    "knn.score(X_train, y_train) # train set 에 k=1 이므로 당연히 100%"
   ]
  },
  {
   "cell_type": "code",
   "execution_count": 68,
   "metadata": {},
   "outputs": [
    {
     "data": {
      "text/plain": [
       "-18.66468361276297"
      ]
     },
     "execution_count": 68,
     "metadata": {},
     "output_type": "execute_result"
    }
   ],
   "source": [
    "# 0에 가까울수록 좋음 값, 1이나 음수로 가면 부정확하다.\n",
    "knn.score(X_test, y_test)"
   ]
  },
  {
   "cell_type": "markdown",
   "metadata": {},
   "source": [
    "### score 의 결과 : classification 은 정확도를 Regression 은 결정 계수(R^2)를 표시한다."
   ]
  },
  {
   "cell_type": "code",
   "execution_count": null,
   "metadata": {},
   "outputs": [],
   "source": []
  }
 ],
 "metadata": {
  "kernelspec": {
   "display_name": "Python 3",
   "language": "python",
   "name": "python3"
  },
  "language_info": {
   "codemirror_mode": {
    "name": "ipython",
    "version": 3
   },
   "file_extension": ".py",
   "mimetype": "text/x-python",
   "name": "python",
   "nbconvert_exporter": "python",
   "pygments_lexer": "ipython3",
   "version": "3.7.3"
  }
 },
 "nbformat": 4,
 "nbformat_minor": 2
}
